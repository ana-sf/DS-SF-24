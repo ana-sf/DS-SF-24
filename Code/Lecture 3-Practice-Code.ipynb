{
 "cells": [
  {
   "cell_type": "code",
   "execution_count": 1,
   "metadata": {
    "collapsed": false
   },
   "outputs": [
    {
     "data": {
      "text/html": [
       "<div>\n",
       "<table border=\"1\" class=\"dataframe\">\n",
       "  <thead>\n",
       "    <tr style=\"text-align: right;\">\n",
       "      <th></th>\n",
       "      <th>name</th>\n",
       "      <th>mpg</th>\n",
       "      <th>cyl</th>\n",
       "      <th>disp</th>\n",
       "      <th>hp</th>\n",
       "      <th>drat</th>\n",
       "      <th>wt</th>\n",
       "      <th>qsec</th>\n",
       "      <th>vs</th>\n",
       "      <th>am</th>\n",
       "      <th>gear</th>\n",
       "      <th>carb</th>\n",
       "    </tr>\n",
       "  </thead>\n",
       "  <tbody>\n",
       "    <tr>\n",
       "      <th>0</th>\n",
       "      <td>Mazda RX4</td>\n",
       "      <td>21.0</td>\n",
       "      <td>6</td>\n",
<<<<<<< HEAD
       "      <td>160.0</td>\n",
=======
       "      <td>160</td>\n",
>>>>>>> ga-students/master
       "      <td>110</td>\n",
       "      <td>3.90</td>\n",
       "      <td>2.620</td>\n",
       "      <td>16.46</td>\n",
       "      <td>0</td>\n",
       "      <td>1</td>\n",
       "      <td>4</td>\n",
       "      <td>4</td>\n",
       "    </tr>\n",
       "    <tr>\n",
       "      <th>1</th>\n",
       "      <td>Mazda RX4 Wag</td>\n",
       "      <td>21.0</td>\n",
       "      <td>6</td>\n",
<<<<<<< HEAD
       "      <td>160.0</td>\n",
=======
       "      <td>160</td>\n",
>>>>>>> ga-students/master
       "      <td>110</td>\n",
       "      <td>3.90</td>\n",
       "      <td>2.875</td>\n",
       "      <td>17.02</td>\n",
       "      <td>0</td>\n",
       "      <td>1</td>\n",
       "      <td>4</td>\n",
       "      <td>4</td>\n",
       "    </tr>\n",
       "    <tr>\n",
       "      <th>2</th>\n",
       "      <td>Datsun 710</td>\n",
       "      <td>22.8</td>\n",
       "      <td>4</td>\n",
<<<<<<< HEAD
       "      <td>108.0</td>\n",
=======
       "      <td>108</td>\n",
>>>>>>> ga-students/master
       "      <td>93</td>\n",
       "      <td>3.85</td>\n",
       "      <td>2.320</td>\n",
       "      <td>18.61</td>\n",
       "      <td>1</td>\n",
       "      <td>1</td>\n",
       "      <td>4</td>\n",
       "      <td>1</td>\n",
       "    </tr>\n",
       "    <tr>\n",
       "      <th>3</th>\n",
       "      <td>Hornet 4 Drive</td>\n",
       "      <td>21.4</td>\n",
       "      <td>6</td>\n",
<<<<<<< HEAD
       "      <td>258.0</td>\n",
=======
       "      <td>258</td>\n",
>>>>>>> ga-students/master
       "      <td>110</td>\n",
       "      <td>3.08</td>\n",
       "      <td>3.215</td>\n",
       "      <td>19.44</td>\n",
       "      <td>1</td>\n",
       "      <td>0</td>\n",
       "      <td>3</td>\n",
       "      <td>1</td>\n",
       "    </tr>\n",
       "    <tr>\n",
       "      <th>4</th>\n",
       "      <td>Hornet Sportabout</td>\n",
       "      <td>18.7</td>\n",
       "      <td>8</td>\n",
<<<<<<< HEAD
       "      <td>360.0</td>\n",
=======
       "      <td>360</td>\n",
>>>>>>> ga-students/master
       "      <td>175</td>\n",
       "      <td>3.15</td>\n",
       "      <td>3.440</td>\n",
       "      <td>17.02</td>\n",
       "      <td>0</td>\n",
       "      <td>0</td>\n",
       "      <td>3</td>\n",
       "      <td>2</td>\n",
       "    </tr>\n",
       "  </tbody>\n",
       "</table>\n",
       "</div>"
      ],
      "text/plain": [
<<<<<<< HEAD
       "                name   mpg  cyl   disp   hp  drat     wt   qsec  vs  am  gear  \\\n",
       "0          Mazda RX4  21.0    6  160.0  110  3.90  2.620  16.46   0   1     4   \n",
       "1      Mazda RX4 Wag  21.0    6  160.0  110  3.90  2.875  17.02   0   1     4   \n",
       "2         Datsun 710  22.8    4  108.0   93  3.85  2.320  18.61   1   1     4   \n",
       "3     Hornet 4 Drive  21.4    6  258.0  110  3.08  3.215  19.44   1   0     3   \n",
       "4  Hornet Sportabout  18.7    8  360.0  175  3.15  3.440  17.02   0   0     3   \n",
=======
       "                name   mpg  cyl  disp   hp  drat     wt   qsec  vs  am  gear  \\\n",
       "0          Mazda RX4  21.0    6   160  110  3.90  2.620  16.46   0   1     4   \n",
       "1      Mazda RX4 Wag  21.0    6   160  110  3.90  2.875  17.02   0   1     4   \n",
       "2         Datsun 710  22.8    4   108   93  3.85  2.320  18.61   1   1     4   \n",
       "3     Hornet 4 Drive  21.4    6   258  110  3.08  3.215  19.44   1   0     3   \n",
       "4  Hornet Sportabout  18.7    8   360  175  3.15  3.440  17.02   0   0     3   \n",
>>>>>>> ga-students/master
       "\n",
       "   carb  \n",
       "0     4  \n",
       "1     4  \n",
       "2     1  \n",
       "3     1  \n",
       "4     2  "
      ]
     },
     "execution_count": 1,
     "metadata": {},
     "output_type": "execute_result"
    }
   ],
   "source": [
    "import pandas as pd\n",
    "url = \"https://raw.githubusercontent.com/ga-students/DS-SF-24/master/Data/mtcars.csv\"\n",
    "CarData = pd.read_csv(url)\n",
    "CarData.head()"
   ]
  },
  {
   "cell_type": "markdown",
   "metadata": {},
   "source": [
    "Here is the dictionary of our data: https://stat.ethz.ch/R-manual/R-devel/library/datasets/html/mtcars.html"
   ]
  },
  {
   "cell_type": "code",
   "execution_count": 2,
   "metadata": {
    "collapsed": false
   },
   "outputs": [
    {
     "data": {
      "text/plain": [
<<<<<<< HEAD
       "<matplotlib.axes._subplots.AxesSubplot at 0x1167c3f50>"
=======
       "<matplotlib.axes._subplots.AxesSubplot at 0x10c3c7050>"
>>>>>>> ga-students/master
      ]
     },
     "execution_count": 2,
     "metadata": {},
     "output_type": "execute_result"
    },
    {
     "data": {
      "image/png": "iVBORw0KGgoAAAANSUhEUgAAAXQAAAEACAYAAACj0I2EAAAABHNCSVQICAgIfAhkiAAAAAlwSFlz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\no6uaKEOyqG0AAAAASUVORK5CYII=\n",
      "text/plain": [
<<<<<<< HEAD
       "<matplotlib.figure.Figure at 0x1167c3650>"
=======
       "<matplotlib.figure.Figure at 0x10c362710>"
>>>>>>> ga-students/master
      ]
     },
     "metadata": {},
     "output_type": "display_data"
    }
   ],
   "source": [
    "import matplotlib.pyplot as plt\n",
    "%matplotlib inline\n",
    "CarData.plot(kind = 'box') \n",
    "#if you are interested in boxplot of all variables, the above command is the simplest!\n",
    "\n",
    "\n",
    "\n",
    "#Alternatively, you could plot it this way\n",
    "#plot.box([List name of your variables])"
   ]
  },
  {
   "cell_type": "code",
   "execution_count": 7,
   "metadata": {
    "collapsed": false
   },
   "outputs": [
    {
     "name": "stdout",
     "output_type": "stream",
     "text": [
      "96.0\n",
      "180.0\n",
      "84.0\n"
     ]
    }
   ],
   "source": [
    "Q1_hp = CarData['hp'].quantile(.25)  #Here is the first Quartile for hp\n",
    "Q3_hp = CarData['hp'].quantile(.75)  #Here is the third Quartile for hp\n",
    "IQR_hp = Q3_hp - Q1_hp  \n",
    "print Q1_hp\n",
    "print Q3_hp\n",
    "print IQR_hp"
   ]
  },
  {
   "cell_type": "markdown",
   "metadata": {},
   "source": [
    "#### Let's get rid of outliers"
   ]
  },
  {
   "cell_type": "code",
   "execution_count": 8,
   "metadata": {
    "collapsed": true
   },
   "outputs": [],
   "source": [
    "CarData.drop(CarData[(CarData['hp'] > Q3_hp + 1.5*IQR_hp) |\n",
    "                     (CarData['hp'] < Q1_hp - 1.5*IQR_hp) ].index\n",
    "                        , inplace = True)"
   ]
  },
  {
   "cell_type": "code",
   "execution_count": 9,
   "metadata": {
    "collapsed": false
   },
   "outputs": [
    {
     "data": {
      "text/plain": [
       "<matplotlib.axes._subplots.AxesSubplot at 0x115266a50>"
      ]
     },
     "execution_count": 9,
     "metadata": {},
     "output_type": "execute_result"
    },
    {
     "data": {
      "image/png": "iVBORw0KGgoAAAANSUhEUgAAAXQAAAEACAYAAACj0I2EAAAABHNCSVQICAgIfAhkiAAAAAlwSFlz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\nRxjoktQR/x8OM2qcvaoSIAAAAABJRU5ErkJggg==\n",
      "text/plain": [
       "<matplotlib.figure.Figure at 0x1124c2e50>"
      ]
     },
     "metadata": {},
     "output_type": "display_data"
    }
   ],
   "source": [
    "CarData.plot(kind = 'box')"
   ]
  },
  {
   "cell_type": "markdown",
   "metadata": {},
   "source": [
    "#### Great! We have an outlier free dataset to work with!"
   ]
  },
  {
   "cell_type": "markdown",
   "metadata": {},
   "source": [
    "## First: Create a correlation matrix and explore it"
   ]
  },
  {
   "cell_type": "code",
   "execution_count": 10,
   "metadata": {
    "collapsed": false
   },
   "outputs": [
    {
     "data": {
      "text/html": [
       "<div>\n",
       "<table border=\"1\" class=\"dataframe\">\n",
       "  <thead>\n",
       "    <tr style=\"text-align: right;\">\n",
       "      <th></th>\n",
       "      <th>mpg</th>\n",
       "      <th>cyl</th>\n",
       "      <th>disp</th>\n",
       "      <th>hp</th>\n",
       "      <th>drat</th>\n",
       "      <th>wt</th>\n",
       "      <th>qsec</th>\n",
       "      <th>vs</th>\n",
       "      <th>am</th>\n",
       "      <th>gear</th>\n",
       "      <th>carb</th>\n",
       "    </tr>\n",
       "  </thead>\n",
       "  <tbody>\n",
       "    <tr>\n",
       "      <th>mpg</th>\n",
       "      <td>1.000000</td>\n",
       "      <td>-0.848252</td>\n",
       "      <td>-0.846203</td>\n",
       "      <td>-0.817454</td>\n",
       "      <td>0.686527</td>\n",
       "      <td>-0.869775</td>\n",
       "      <td>0.394328</td>\n",
       "      <td>0.655638</td>\n",
       "      <td>0.656624</td>\n",
       "      <td>0.567462</td>\n",
       "      <td>-0.575325</td>\n",
       "    </tr>\n",
       "    <tr>\n",
       "      <th>cyl</th>\n",
       "      <td>-0.848252</td>\n",
       "      <td>1.000000</td>\n",
       "      <td>0.903260</td>\n",
       "      <td>0.869776</td>\n",
       "      <td>-0.708753</td>\n",
       "      <td>0.785574</td>\n",
       "      <td>-0.571495</td>\n",
       "      <td>-0.805401</td>\n",
       "      <td>-0.586724</td>\n",
       "      <td>-0.594743</td>\n",
       "      <td>0.525530</td>\n",
       "    </tr>\n",
       "    <tr>\n",
       "      <th>disp</th>\n",
       "      <td>-0.846203</td>\n",
       "      <td>0.903260</td>\n",
       "      <td>1.000000</td>\n",
       "      <td>0.858715</td>\n",
       "      <td>-0.712171</td>\n",
       "      <td>0.887852</td>\n",
       "      <td>-0.425631</td>\n",
       "      <td>-0.706693</td>\n",
       "      <td>-0.632086</td>\n",
       "      <td>-0.626252</td>\n",
       "      <td>0.414851</td>\n",
       "    </tr>\n",
       "    <tr>\n",
       "      <th>hp</th>\n",
       "      <td>-0.817454</td>\n",
       "      <td>0.869776</td>\n",
       "      <td>0.858715</td>\n",
       "      <td>1.000000</td>\n",
       "      <td>-0.507509</td>\n",
       "      <td>0.724729</td>\n",
       "      <td>-0.663887</td>\n",
       "      <td>-0.753395</td>\n",
       "      <td>-0.416755</td>\n",
       "      <td>-0.352362</td>\n",
       "      <td>0.650476</td>\n",
       "    </tr>\n",
       "    <tr>\n",
       "      <th>drat</th>\n",
       "      <td>0.686527</td>\n",
       "      <td>-0.708753</td>\n",
       "      <td>-0.712171</td>\n",
       "      <td>-0.507509</td>\n",
       "      <td>1.000000</td>\n",
       "      <td>-0.712847</td>\n",
       "      <td>0.089908</td>\n",
       "      <td>0.442894</td>\n",
       "      <td>0.734561</td>\n",
       "      <td>0.746431</td>\n",
       "      <td>-0.098105</td>\n",
       "    </tr>\n",
       "    <tr>\n",
       "      <th>wt</th>\n",
       "      <td>-0.869775</td>\n",
       "      <td>0.785574</td>\n",
       "      <td>0.887852</td>\n",
       "      <td>0.724729</td>\n",
       "      <td>-0.712847</td>\n",
       "      <td>1.000000</td>\n",
       "      <td>-0.162421</td>\n",
       "      <td>-0.552654</td>\n",
       "      <td>-0.725626</td>\n",
       "      <td>-0.640649</td>\n",
       "      <td>0.481195</td>\n",
       "    </tr>\n",
       "    <tr>\n",
       "      <th>qsec</th>\n",
       "      <td>0.394328</td>\n",
       "      <td>-0.571495</td>\n",
       "      <td>-0.425631</td>\n",
       "      <td>-0.663887</td>\n",
       "      <td>0.089908</td>\n",
       "      <td>-0.162421</td>\n",
       "      <td>1.000000</td>\n",
       "      <td>0.742908</td>\n",
       "      <td>-0.171390</td>\n",
       "      <td>-0.117663</td>\n",
       "      <td>-0.604178</td>\n",
       "    </tr>\n",
       "    <tr>\n",
       "      <th>vs</th>\n",
       "      <td>0.655638</td>\n",
       "      <td>-0.805401</td>\n",
       "      <td>-0.706693</td>\n",
       "      <td>-0.753395</td>\n",
       "      <td>0.442894</td>\n",
       "      <td>-0.552654</td>\n",
       "      <td>0.742908</td>\n",
       "      <td>1.000000</td>\n",
       "      <td>0.210349</td>\n",
       "      <td>0.275662</td>\n",
       "      <td>-0.595944</td>\n",
       "    </tr>\n",
       "    <tr>\n",
       "      <th>am</th>\n",
       "      <td>0.656624</td>\n",
       "      <td>-0.586724</td>\n",
       "      <td>-0.632086</td>\n",
       "      <td>-0.416755</td>\n",
       "      <td>0.734561</td>\n",
       "      <td>-0.725626</td>\n",
       "      <td>-0.171390</td>\n",
       "      <td>0.210349</td>\n",
       "      <td>1.000000</td>\n",
       "      <td>0.783700</td>\n",
       "      <td>-0.088148</td>\n",
       "    </tr>\n",
       "    <tr>\n",
       "      <th>gear</th>\n",
       "      <td>0.567462</td>\n",
       "      <td>-0.594743</td>\n",
       "      <td>-0.626252</td>\n",
       "      <td>-0.352362</td>\n",
       "      <td>0.746431</td>\n",
       "      <td>-0.640649</td>\n",
       "      <td>-0.117663</td>\n",
       "      <td>0.275662</td>\n",
       "      <td>0.783700</td>\n",
       "      <td>1.000000</td>\n",
       "      <td>0.109379</td>\n",
       "    </tr>\n",
       "    <tr>\n",
       "      <th>carb</th>\n",
       "      <td>-0.575325</td>\n",
       "      <td>0.525530</td>\n",
       "      <td>0.414851</td>\n",
       "      <td>0.650476</td>\n",
       "      <td>-0.098105</td>\n",
       "      <td>0.481195</td>\n",
       "      <td>-0.604178</td>\n",
       "      <td>-0.595944</td>\n",
       "      <td>-0.088148</td>\n",
       "      <td>0.109379</td>\n",
       "      <td>1.000000</td>\n",
       "    </tr>\n",
       "  </tbody>\n",
       "</table>\n",
       "</div>"
      ],
      "text/plain": [
       "           mpg       cyl      disp        hp      drat        wt      qsec  \\\n",
       "mpg   1.000000 -0.848252 -0.846203 -0.817454  0.686527 -0.869775  0.394328   \n",
       "cyl  -0.848252  1.000000  0.903260  0.869776 -0.708753  0.785574 -0.571495   \n",
       "disp -0.846203  0.903260  1.000000  0.858715 -0.712171  0.887852 -0.425631   \n",
       "hp   -0.817454  0.869776  0.858715  1.000000 -0.507509  0.724729 -0.663887   \n",
       "drat  0.686527 -0.708753 -0.712171 -0.507509  1.000000 -0.712847  0.089908   \n",
       "wt   -0.869775  0.785574  0.887852  0.724729 -0.712847  1.000000 -0.162421   \n",
       "qsec  0.394328 -0.571495 -0.425631 -0.663887  0.089908 -0.162421  1.000000   \n",
       "vs    0.655638 -0.805401 -0.706693 -0.753395  0.442894 -0.552654  0.742908   \n",
       "am    0.656624 -0.586724 -0.632086 -0.416755  0.734561 -0.725626 -0.171390   \n",
       "gear  0.567462 -0.594743 -0.626252 -0.352362  0.746431 -0.640649 -0.117663   \n",
       "carb -0.575325  0.525530  0.414851  0.650476 -0.098105  0.481195 -0.604178   \n",
       "\n",
       "            vs        am      gear      carb  \n",
       "mpg   0.655638  0.656624  0.567462 -0.575325  \n",
       "cyl  -0.805401 -0.586724 -0.594743  0.525530  \n",
       "disp -0.706693 -0.632086 -0.626252  0.414851  \n",
       "hp   -0.753395 -0.416755 -0.352362  0.650476  \n",
       "drat  0.442894  0.734561  0.746431 -0.098105  \n",
       "wt   -0.552654 -0.725626 -0.640649  0.481195  \n",
       "qsec  0.742908 -0.171390 -0.117663 -0.604178  \n",
       "vs    1.000000  0.210349  0.275662 -0.595944  \n",
       "am    0.210349  1.000000  0.783700 -0.088148  \n",
       "gear  0.275662  0.783700  1.000000  0.109379  \n",
       "carb -0.595944 -0.088148  0.109379  1.000000  "
      ]
     },
     "execution_count": 10,
     "metadata": {},
     "output_type": "execute_result"
    }
   ],
   "source": [
    "CarData.corr() "
   ]
  },
  {
   "cell_type": "markdown",
   "metadata": {},
   "source": [
    "#### What do we learn from this Corr() Matrix?"
   ]
  },
  {
   "cell_type": "markdown",
   "metadata": {},
   "source": [
    "Answer: drat and carb are only weakly correlated. As are: wt and qsec, qsec and am, qsec and gear, vs and am, vs and gear, am and carb, gear and carb. The rest of the input pairs show strong linear correlations. "
   ]
  },
  {
   "cell_type": "markdown",
   "metadata": {},
   "source": [
    "### Let's draw scatter plot and regression plot of Mileage Per Gallon (y) vs horse power (x)"
   ]
  },
  {
   "cell_type": "code",
   "execution_count": 11,
   "metadata": {
    "collapsed": false
   },
   "outputs": [
    {
     "data": {
      "image/png": "iVBORw0KGgoAAAANSUhEUgAAAYYAAAEPCAYAAABGP2P1AAAABHNCSVQICAgIfAhkiAAAAAlwSFlz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\nZpbhxGBmZhlODGZmluHEYGZmGf8fmXnqJCM/8PgAAAAASUVORK5CYII=\n",
      "text/plain": [
       "<matplotlib.figure.Figure at 0x11a3611d0>"
      ]
     },
     "metadata": {},
     "output_type": "display_data"
    }
   ],
   "source": [
    "#Scatter plot\n",
    "plt.scatter(CarData.hp, CarData.mpg)\n",
    "plt.xlabel(\"Gross Horsepower\")\n",
    "plt.ylabel(\"Miles/gallon\")\n",
    "plt.show()"
   ]
  },
  {
   "cell_type": "code",
   "execution_count": 13,
   "metadata": {
    "collapsed": false
   },
   "outputs": [],
   "source": [
    "#regression plot\n",
    "import seaborn as sns\n"
   ]
  },
  {
   "cell_type": "code",
   "execution_count": 14,
   "metadata": {
    "collapsed": false
   },
   "outputs": [
    {
     "data": {
      "image/png": "iVBORw0KGgoAAAANSUhEUgAAAfkAAAFmCAYAAABuhuNyAAAABHNCSVQICAgIfAhkiAAAAAlwSFlz\nAAALEgAACxIB0t1+/AAAIABJREFUeJzs3XtwXHd9N/73OXvO3i/SSivJlnyJr5FllGA7tozB8JCU\npGGAOin8BkLoBAY3QGjxkIYAZYahnXQeWoY807TTptNOHsjze+YXWkrKpQXiEAqxZDu2SWz5GtuJ\nJdm7Wmm199vZc87vj9XKknU70t5X79d/kqLV15/s7mfP93y/76+g67oOIiIiajhitQdARERE5cEm\nT0RE1KDY5ImIiBoUmzwREVGDYpMnIiJqUGzyREREDaoiTV7TNBw4cACPPvooACASieDTn/407r33\nXnzmM59BLBarxDCIiIhWlIo0+e9973vYuHHj1NfPPvss9u7di5///OfYs2cP/vEf/7ESwyAiIlpR\nyt7k/X4/fv3rX+OjH/3o1PcOHz6MAwcOAAAOHDiAl156qdzDICIiWnHK3uSfeuopPPHEExAEYep7\n4+PjaG1tBQD4fD6EQqFyD4OIiGjFKWuTf+WVV9Da2oru7m4slJ47/QMAERERlYZUzgc/efIkXn75\nZfz6179GJpNBIpHAn/3Zn6G1tRVjY2NobW1FMBiE1+td9LF0XeeHASIioiUQKnVAzbFjx/Av//Iv\n+Id/+Ad8+9vfRlNTEw4ePIhnn30W0WgUjz/++KKPEQxyFf5ifD4X62QQa2UM62Qca2UM62SMz+cq\n+jGqsk/+4MGDOHLkCO69914MDAzg4MGD1RgGERFRQyvrdP10u3fvxu7duwEATU1NeO655yr1p4mI\niFYkJt4RERE1KDZ5IiKiBsUmT0RE1KDY5ImIiBoUmzwREVGDYpMnIiJqUGzyREREDYpNnoiIqEGx\nyRMRETUoNnkiIqIGxSZPRETUoNjkiYiIGhSbPBERUYNikyciImpQbPJEREQNik2eiIioQbHJExER\nNSg2eSIiogbFJk9ERNSg2OSJiIgaFJs8ERFRg2KTJyIialBs8kRERA2KTZ6IiKhBsckTERE1KDZ5\nIiKiBsUmT0RE1KDY5ImIiBoUmzwREVGDYpMnIiJqUFI5HzybzeKhhx6CoihQVRX33nsvHnvsMTzz\nzDN44YUX0NLSAgA4dOgQ9u/fX86hEBERrThlbfJmsxnf+973YLPZoKoqPv7xj08180ceeQSPPPKI\n4ccKjk8gkczCYbeXa7hEREQNpezT9TabDUD+qj6Xy019X9f1JT2OktMxEVNwPTCORDJZ0jESERE1\norI3eU3T8Ad/8AfYt28f9u3bh97eXgDA888/j4985CP4+te/jlgsZuixJFmGKNvY7ImIiAwQ9KVe\nUi9TPB7HF77wBXzjG9+A1+tFc3MzBEHAd7/7XQSDQTz11FML/v71QAi6aJ7xvZyiQIQKr8cOh4PT\n+ERERNOV9Z78dE6nE7t378ZvfvObGffiP/axj+HRRx819BihUGLO749PTEDQR+Fx2Vb8PXufz4Vg\n0NjMyErHWhnDOhnHWhnDOhnj87mKfoyyTteHQqGpqfh0Oo0jR45gw4YNCAaDU//NL3/5S2zZsqWo\nv2OSpKlp/Buj40hnMkU9HhERUSMo65V8MBjEk08+CU3ToGka7r//frz3ve/FE088gXPnzkEURXR2\nduJb3/pWSf6eJMsAZIyFkzCbEmj2uCDLckkem4iIqN5U7J58sa4HQhgPK0v6HSWTgs0ioqW5CYIg\nlGlktYXTYMaxVsawTsaxVsawTsbU/HR9tckWGxTdjGH/OKKxeLWHQ0REVFEN3eQBQBAEyBY7YikN\n13m/noiIVpCKra6vNpMkAZAwFk5CNiXg5f16wzRdx6tv3MBwMIEunwP7eldBXCG3P4iI6tmKafIF\nkmyBDsAfisNiAlqa3TCZTNUeVk179Y0bePnUCADg4nAYAPCeO1ZXc0hERGRAw0/Xz0eWLdBEC66P\nhjEWmoCmadUeUs0aDiYW/JqIiGrTim3yBbLFhhwsGAlMIBSOLDlTfyXo8jkW/JqIiGrTipuun49s\nsSGj6hj2j8PtMMPjdld7SDVjX+8qAJhxT56IiGofm/w0hZX4iayGmH8cHqcVLievWkVB4D14IqI6\ntOKn6+ciiiIksw3RpIrrgXEkk6lqD4mIiGjJ2OQXUMjED8Uy8AdDyGaz1R4SERGRYWzyBkiyGTBZ\nEZhIIDjOlfhERFQf2OSXQJYtUIX8SvxINMqV+EREVNPY5JdBttiQyIoYCYSYiU9ERDWLq+uXSRRF\niGYbYmkVseQ4mlw2OOz2ag+rbBhtS0RUf9jki2QymQCTDRMxBdH4OJpcDths1moPq+QYbUtEVH/Y\n5EtEkmUAMsajaUjxJJrcDlgtlmoPq2QYbUtEVH94T77ECivxgxMJjI6FoChKtYdUEoy2JSKqP7yS\nLxPZbIUGwD8eg1UW4G2q79PuGG1LRFR/6qbJn706gVaPAyaxvhZ7yWYrVADXR8OwWUR4mzwQxfqb\nQGG0LRFR/ambJv+/fnAGTU4z9mxrx67b2+CwytUe0pLIFhsUXcdIYAIOm4RmjxsCV6cTEVEZ1U2T\nB4BwPIufHxvC4RPD6N3Yir097ej0Oas9LMPyB+DMPO3O7XKx2RMRUVnUTZP/wO4u/OZ1P1KZHHKq\njpMXgzh5MYg1bU7s7enA9g1eSKb6mAafftpd1B+Cx2mB21U/H1aIiKg+1E2Tf/B9t2Hf9tV44/IY\n+s/4cX08CQAYGo1jaPRN/GxAxl3dbdjd3Q6Pw1zl0RojiiJEy2SgTmIcHpcVTgdXrRMRUWnUTZMH\nAFkSsXNrG3Zs8eFaII7+QT/OXAlB03XEUwp+dXIEvz41gm23ebG3pwPrO+pjKrwQqBOOK4gmxtHc\noIE6RERUWXXV5AsEQcC6DhfWdbgQ3ZvF8XOjOHY2gFhKgaYDZ66EcOZKCB1eO/b2tOOOTa0wy7W/\nfa3RA3WIiKiyBL1OjlK7HghhPDx/sExO1TB4NYSBwQDeDsRm/MxqNmHX7W3o29YOr7t+rpBzSgay\nSYfX44IsG9tN4PO5EAzGFv8PibUyiHUyjrUyhnUyxudzFf0YdXklPxfJJOKOTa24Y1Mrro8l0D/o\nx+tvjiGn6khnVfz2jRt49Y0b2Lq2CX09HdjU5an5A1Yk2QIdwI3xGGwNEKhDRESV1TBNfrrVrQ48\n+N6N+P09a/HahSCOng1gIpaBDuD8tTDOXwuj1WNFX087dmzxwWqu7TKYGyRQh4iIKqu2u1uR7FYZ\n++9YjXe/YxUuDIXRf8aPN0ciAICxSBo/OfI2fnFsCO/c4kPftna0e2v7qFjZYkMOYKAOEREZUtYm\nn81m8dBDD0FRFKiqinvvvRePPfYYIpEIDh06hJGREXR1deHpp5+Gy1X8vYf5iKKA7nXN6F7XjNFw\nCkcHAzh5MYiMoiKb03D0bABHzwawYbUbe3s6cPu65pqOz10sUIdnv1cOa01EtazsC+9SqRRsNhtU\nVcXHP/5x/Pmf/zl+/vOfo6mpCZ/97Gfx7LPPIhqN4vHHH1/wcRZbeLdU6WwOpy6OYeCsH8FwesbP\nPI58fO5d3bUfn6tpGlQlMxWo4/O58MOXLkyd/Q4A739nJ3Pn51CKxT+/ef16w9eai6SMY62MYZ2M\nKcXCu7Lf2LXZbADyV/W5XA4AcPjwYRw4cAAAcODAAbz00kvlHsYsVrOEvds78KWP3oFP39+N7nXN\nKFyARRJZ/OL4EP7n/zmJf33lTYwE4xUfn1GiKEK22BBL6xgJjCORTPHs9wpirYmolpX9nrymaXjg\ngQdw7do1PPTQQ+jt7cX4+DhaW1sBAD6fD6FQqNzDmJcgCNjU5cGmLg8mYmkcPRvA8fPBafG5Yzh5\ncazm43MLgTrBcApOWUUup0CS8rMQPPu9fLp8DlwcDs/4moioVpS9yYuiiB/96EeIx+P4whe+gEuX\nLs1aLFYri8eaXVbct2cd7t65pm7jc2XZjJ3b10CFgNFQApvXtvLs9zIq1Hb6PXkiolpR0TCcv/u7\nv4PNZsMPfvADfP/730drayuCwSA+9alP4T//8z8X/N3rgRB0sbJNVdd1XBmJ4FcnhnHywig07Wap\nREHAnVt9+B87urBpTVPNfFC5VSadgsNqQqvXwz32REQrTFmbfCgUgizLcLlcSKfT+MxnPoODBw/i\n2LFj8Hg8OHjwYNUW3i1VNDkzPne6WorP9XodCIVm3xdWMilYzSJamrnHvoCLf4xhnYxjrYxhnYwp\nxcK7sjb5Cxcu4Mknn4SmadA0Dffffz8+97nPIRwO40tf+hJu3LiBzs5OPP3003C73Qs+VrWbfMGi\n8blb29DXU7343PmafIGSSXGP/SS+0RjDOhnHWhnDOhlT802+lGqlyU93fSyBgUE/fjcZn1sgANiy\ntgl7qxCfu1iTB/K3IXLZFNwOCzzu8uUT1Dq+0RjDOhnHWhnDOhnD7PoqW93qwAPv3Yj75ojPvXAt\njAs1Gp8rCAJkix2JrIa4fxxNbhsc9tpO+yMioqXjlXwJaZqOC9cm0D8YmIrPLTBLYkXic41cyd8q\npyiQRBVejxNmc+3tGCgXXk0YwzoZx1oZwzoZwyv5GiOKArrXe9G93ovRcAoDg36cvBhEVtFqOj63\ncI59YCIBq5TgaXdERA2CTb5M2pps+PC+2/CBu9bg1KUxDAzejM+9cj2KK9ejU/G5u25vg9NW/fhc\nWbbkT7sLhuGwSGhu4uI8IqJ6xiZfZlazhL09Hejb1o7LI1H0D/px/toEdP1mfO7LJ4fRu7EFfT0d\n6PI5qz1kyGYbMpqOkUAIDquEJq7EJyKqS2zyFTI7PncUx8+P1mx8riAIkMw2pNV8s3c78gfgEBFR\n/WCTr4J8fO5a3L2zq+bjcwvNPp5WEU+Oo9ntgM1WnQwAIiJaGjb5KpIlETu3tmHHFh+uBeLoH/Tj\nzJUQNF1HPKXgVydH8OtTI9h2mxd7ezqwvsNVtWlzcfIAnPFoGlI8ueJW4hMR1SM2+RogCALWdbiw\nrsOF6N6Z8bmaDpy5EsKZK6GaiM+V5Hxj50p8IqLax33yNSqnajj7Vgj9Z+aPz93T046WW+Jzl7NP\nvhhKNlW3K/G5V9cY1sk41soY1skY7pNvYJJJRO/GVvRubJ0Vn5vOqvjt6Rt49fSNqsXnFhRW4g/7\nx+FxWOF2c3EeEVGtqJsr+Ug0hreGQlA1QDavzIVfybSCExeCGJiMz52uxWNF37Z23LNnPVLJzDyP\nUF6qqgJaFs0uO+x2W1XGsBS8mjCGdTKOtTKGdTJmRR1QAwDBYAy5XA6xeALprApFywe41Ns0cbEW\nis+1yCbcubm17PG5C8kpWUiihia3A1aLpSpjMIJvNMawTsaxVsawTsasyCY/naqqiCcSSGZyUHI6\nZLN1xTX8QnzuqYtjyCjqjJ9tWO1GX08HuqsUn6soGUiCBo+zNq/s+UZjDOtkHGtlDOtkzIpv8tNp\nmoZYPIFURkFW0SCZrRDF6oXJVFo6m8OpS2M4fn4U/sk99wWliM/VdB0nLwThDyXR4bVjx1af4TUA\nOUWBgBzcDitcTsey/n458I3GGNbJONbKGNbJGDb5eei6jlg8jlQmh4yiQpJXTsNvbrbj+Jkb6D9z\nMz63wCQK6N3Ygr3blx6f+9r5UQycDUx93Tf5oWEp1FwOgq7A46qNo235RmMM62Qca2UM62QMV9fP\nQxAEuF0uuF2Fhp9AOptBOqPCJFsael+3IAjY1OnBps7Z8bmqpuPUpTGcurT0+Fx/KLng10aYJAmA\nhImYgmh8HE0upucREZVTQzb56fIN3wk38g0/kUwilc4gnVUhmMyQpMYtwfT43NffzJ+Ed2t87k8H\nZOy+vQ27ty0cn9vhteMtf2zG18tVONp2LJqCHE/C47Sz2RMRlUFDTtcblUymkEhl8gvWBGmy+dS3\nhcJwdF2fFZ9bIApYMD63mHvyi8kpWZgEteJX9pwyNIZ1Mo61MoZ1MobT9UWy221Tq75T6TQSyTTS\nWRWACVID5rIvJT63r6cdd06LzxUFYcn34I0qROWOR9MwxRJoaXIxF5+IqARW9JX8fDKZDOLJFNJZ\nFRpEyHLt7vW+1VJjbZcbn1tOipKBVQJamj1lXTDJqwljWCfjWCtjWCdjeCVfJhaLBZbJEJdsNot4\nIoW0oiKnNt5e/FqMz5VlC3L6zXPsPe7in+hERCsRr+SXQFVVxOJxpLNqze7FL8UBNcl0DicujC4Y\nn7tzqw9Wc/k/I6qqCl3Nwu2wwO0qbS4+ryaMYZ2MY62MYZ2M4T75KipszctkFWQUDbVyH7+Up9At\nFJ9rlkTcubkVe3s6KhKfq6oqoGbhKmGz5xuNMayTcayVMayTMZyur6LC1ryCwn38jKJBUXWYG2Ba\nXxQFdK/3onu9dyo+9+TFILKKhmxOw7Fzozh2brQi8bkmkwkw2RBLq4glxuF2WuFw2PHqGzcwHEyg\ny+fAvt5VVTmJj4ioVrHJl8j0+/j5TP0k0tkcsooGUTLXfQBPW5MNH953Gz5w1xqcupTfcx8MpwEA\nV65HceV6tCTxuYspNPtoMoeXXzuP4xfHIZstuDgcBgC8547VZfm7RET1iE2+DEwmEzxuFzzIT+vH\nEwmkM40RwGM1S9jb04G+be24fD2KgUE/zr2dj8+NJLL4xfEhvHxyGL0bW9DXs/T4XKNMkoRgXIem\nC0il4pAlGcPB0tymICJqFPXbbeqEIAhwOZ0ozOw3SgDPQvG5OVXHyYtjOHlx6fG5S1FI4RNNEnI5\nBQ4ph0QyWRO5+EREtYAL76qoEMCTUUq3H7+UC++WSslpeOPyGPoHA7g+NnMMDttkfG53GzzO0uQO\nzJXCp+VyEJGDy8CJd1z8YwzrZBxrZQzrZEzNr673+/144oknMD4+DlEU8bGPfQwPP/wwnnnmGbzw\nwgtoaWkBABw6dAj79+9f9PEa+UmRyWQmE/dyUHUBsnl54TPVbPIFuq5jaDSOI2eWHp9bKmouB+gK\nXPb5V+PzjcYY1sk41soY1smYml9dbzKZ8NWvfhXd3d1IJBJ44IEH8K53vQsA8Mgjj+CRRx4p55+v\nK9MX7uVyOUTjCWSyKrJ1uFJfEASsbXdhbfvS43NLpXDiXSyVQywxXtKtd0RE9aKsTd7n88Hn8wEA\nHA4HNm7ciNHRUQD5qz2amyRJ8DZ5ABRW6ieQyuRqNoBnIW67GXfv7MJ771w9Kz7XH0riR7+5iv86\neg27trahr6cd3hLH5041+2lb7xabxiciahQVW3g3PDyM8+fPo7e3FydOnMDzzz+PF198Edu3b8eT\nTz4Jl4vRpXPJr9R3T63Uj8UTSGczyGRViCbzZBOrfbfG5/YP+vF6BeNzp2+9iyXG4XHZ4AOfc0TU\n2Cqy8C6RSODhhx/G5z//edxzzz0IhUJobm6GIAj47ne/i2AwiKeeemrRx+E9nJmSyRSS6fxKfW3y\nPn4t3JM3qprxuTlFga/FCk3ReZb9Inj/1DjWyhjWyZiaX3gH5O8v//Ef/zH279+PP/qjP5r185GR\nETz66KP48Y9/XM5hNLxcLodILIF0JoeMokE2W+pmWl/TdJy5PIZfnRjGubdCM35mkU3Ys70D79vR\nhdVl2HOvKFlIggZvkxN2NnsiajBlb/JPPPEEmpub8dWvfnXqe8FgcOpe/XPPPYfTp0/jO9/5zqKP\nxU9+i/P5XBgdjU7l6qezKgRRrpv9+KPhFI4OBnDyYjCfJTBNqeNzp8965JQsJFFDk9sBq6V+jhau\nBF51GcdaGcM6GVPzV/InTpzAJz/5SWzZsgWCIEAQBBw6dAg/+clPcO7cOYiiiM7OTnzrW99Ca2vr\noo/HJ8Xi5nrxpNJpJFNpZLIqchrq4rjcdDaHUxfHMHD2ZnxuQanic+e6tZFTMpBEHc0eJyw1cOBQ\nLeAbsnGslTGskzE13+RLjU+KxS324pmxWj+nQZJnrtafK2Cmmoe+6LqOyyNR9A/6cf5aPj63wCQK\n6N3Ygr3blxefu9D6BSWbhlkCmt1OmFd4s+cbsnGslTGskzE1v0+eas+Cq/UlC05dGsfA2QAA4C1/\n/kW46/a2qo1XEARs6vJgU1chPjeA4+eDSGVyUDUdpy6N4dSl0sfnymYrdACBiQQspjiaPS7IdXLL\ng4iogE1+BSscl+ue/DqeSODG6ARy2RREyQxRNMEfSlZ1jNM1u6y4b8863L1zTT4+94wf18fz4xsa\njWNo9E38dGAyPndbOzyO4q/AZdkCDcCN8RiskoBmj5PNnojqBps8TXE6HLj9tnZcD+egZNPQFAUt\nDjdUVa2po3JlScTOrW3YscWHa4E4+gdvxucmUgp+dWoEv/7dSEnjc81mKzQA/vEYLGz2RFQn2ORp\nhn29qwAAw8EEunwO7OtdhWQyiWQ6g3RGhUm21EzDFwQB6zpcWNdRufhcudDsQ3GYTTo8Lq7GJ6La\nxYV3DaacC1p0XUcimUQynUUmq0IwmSHVWOJeTtUweDWEgcGb8bkFVrMJu7a2YU9PO1rcpQkOyikZ\nmAQNHqcddrutqMeqVVwkZRxrZQzrZAxX19MslXzxzEjcK9FRuaV0fSyBgUE/fjcZn1sgANiytgkf\n6FuPdo+lJLsHcooCAbkFT72rV3xDNo61MoZ1MoZNnmap1osnm80inkwho6hQcnpN7cWvZHyuqqrQ\nclm4HTLcrvIdpVtJfEM2jrUyhnUyhk2eZqmFF4+maVN78TPZ2rmPr2k6LgyF0X/GjzdHIjN+ZpZE\n3Lm5FX09Hejw2ov+W7quI5dNwWGT0exx13Wzr4XnVL1grYxhnYxhk6dZavHFk0gkkcpkkc6qgCDV\nRMTuaDiF1y+P48gbN8oan5tv9mk4rBKaPK66OU9gulp8TtUq1soY1skYhuFQXXA47HA48lfHqXQa\niWS66g2/rcmG/+f3tuI97+jAqUtjGBi8GZ975XoUV65HSxKfKwgCZIsNGU3HSGACdqsJzR53XTZ7\nIqo/vJJvMPX0CTmZTCGRyiCdzUE0mWGq8Er96avrdV3H5etRDAz6ce7t0sbnTqfrOpRsCg6rVDfN\nvp6eU9XGWhnDOhnDK3mqa3a7bWrb2fSGv5ytedMz99ubbYAgILCE/H1BELCp04NNnR5MxDI4ejaA\n186PIjlHfG5fTzvesaFlWfG5giDAbLFD0YGRwASsZhFNbgbrEFF58Eq+wTTCJ+TlNPzXzo9OZe4n\nUwoAwD45xd43OeV+q8X2ySs5bVZ8boHDNhmf290Gj7O4rYPZbBoWCTUbrNMIz6lKYa2MYZ2M4ZU8\nNaTpV/iJxGTa3iLhO9Mz9hVVm/dnS2E4Pne9F3u3Lz8+1zx5GE4wnIRJiMNpa7y99kRUHWzyVNOm\nL9pbqOF3eO1Tp+bJt0yjF7slbtH43KshnLlafHxuIUwollYRTYzDbpXQ5K7PFflEVBs4Xd9gVso0\nWGFKP6PkV+mLkrTke/LFxNrmVA1n3wqh/8zc8bk7t/rQ19OBFrd1WY8P3Nx+ZzWLcDntVZvKXynP\nqVJgrYxhnYzhPnmaZSW+eArb8lKZHETJePBOKbLrgcn43LMBvH5pbMatgkJ87t6eDmzq8hQVn6so\nGUiiDofVXPGp/JX4nFou1soY1skYNnmaZaW/eOKJxOQBOhpMsmXBqe5SNfmCZDqH1y6M4mgZ43NV\nVYWuZuGyVy42d6U/p5aCtTKGdTKGTZ5m4YsnT9d1xOIJpLMKMll1ziv8Ujf5gkJ87sCgH5eGyxOf\nOxWba5XLnqTH55RxrJUxrJMxXF1PNA9BEOB2OeGe/Dq/aC87dQ+/nEl7oiige10zutc1YzScwsCg\nH6cujiGjqMjmNBw7N4pj50aLis/NJ+nZkdWB4UAINrOJ++2JaBZeyTcYfkJeXOEevt1pRSiUhmQ2\nl/1vZrIqTl4KzojPLShFfC5Qvv32fE4Zx1oZwzoZw+l6moUvnpk0Xcerb9zAcDCBLp8D+3pXTS2A\n8/lcGB4eyx+Rm1WR0wWYzctfDW+Eruu4PBLFwNkF4nN7OtDVtvzFdTklA5OgweO0T+UNFIPPKeNY\nK2NYJ2M4XU+0iFffuIGXT40AAC4OhwEA77lj9dTPLRYLLJNXvYqiIBZPIq2oUDVAntbwC7G5N0IJ\nZDIqLGYTVrU4DEXmTicIAjZ1ebCpq3zxudLkfvtQLItwLAmnneE6RCsVmzw1tOFgYsGvp5NlGd5m\nDwAgl8shGk8gnVWh6gJevxzBwNkAkikFibQCh1XG24E4AMwZmWtEs8uC+/asxd07u/LxuYMBXB/L\nj29oNI6h0Th+NnBt2fG5+XUH8lS4jsMqwcNwHaIVhU2eGlqXzzF1BV/42ghJkuBtyjf8bDYLf/At\n5LIpZJT8/HphP/xyI3Onmx6fOzQax5Ez88fn9vV04LZVS9s6ZzKZAJMNaVVHbHKRnsflgLkCaxGI\nqLrY5Kmh7etdBQAz7skvldlsxtb17RiZyCGjxBCPp5BJA2ouh93dy7uKn4sgCFjb7sLa9mnxuecC\niCVLE59bOAFPBRAIxSGbAI/TDputvOsQiKh6DC28e/jhh2dcOQiCAKvVig0bNuDRRx+Fx+Mp6yAL\nuFBjcVzQYtxSalVYwPdfR6/BP5GErunQ1Czu3OjFA+/bCEm2lmUafCo+dzCAt/3zxOdu60CLZ3mN\nOqcoEJFb8L49n1PGsVbGsE7GVGzh3aZNmyBJEh588EEAwE9+8hP4/X60t7fj61//Op555pmiB0JU\ny0RBwHvuWI3DJ4bzB+CYAMg2hFMC1nS0IBZPIJXJIJNVYZKNR+suRjKJ6N3Yit6NrbPic9NZFa+e\n9uPIaT+2rGnC3u1Lj8+99b49D8UhaiyGmvzrr7+OH/7wh1Nf33777XjwwQfxN3/zN/jRj35UtsER\n1Zo1bc4Z9+HXtDlvBu+48lvkEsmbp+XJZlvJomdXtzrwwP4NuG/3Wpy4MIqByfhcHcCFoTAuDIXR\n4rair2fp8bmF+/YZVZ8M15Hgcdl5356ozhl6F1AUBZcuXcLmzZsBAJcuXYKmaUin01AUpawDJKol\nf3T/7QAt5mWzAAAgAElEQVTyq9/XtDmnvi4QBAFOhwNOhwO6riMaiyOZUaCoKNkefLtVwnvuWI19\n71iFi0Nh9E+Lzx2PpvHT/rfxy+NDy4rPnX7ffnQiAZMQg91emlkJIqo8Q/fkjx49iq985StoaWmB\npmmIRqP49re/jZdffhkejwcHDx6c8/f8fj+eeOIJjI+PQxRFfPSjH8WnPvUpRCIRHDp0CCMjI+jq\n6sLTTz8Nl2vxew+8h7M43usyrpK1UlUVkVgc6UwOGkyQ5NJeIQfDKQwMBnDyYjAf3TtNMfG5AOBx\nWxAaC8Npz5+AV4lDceoVX3/GsE7GVDTxLpfL4eLFizCZTNiwYQNkWYau6wu+4IPBIMbGxtDd3Y1E\nIoEHHngAf//3f48f/vCHaGpqwmc/+1k8++yziEajePzxxxcdA58Ui+OLx7hq1SqTySCWSCGdVSGY\nzCW7fw+UJz63cJCPpmlQlTQcVhket7Ok424UfP0ZwzoZU7GFd9evX8df/uVfor+/H7IsY//+/fja\n174Gr9e7yAB98Pl8AACHw4GNGzciEAjg8OHDeP755wEABw4cwMMPP2yoyRM1gukpe/FEAolUfsGe\nbCn+/r3FbMLeng70bWvH5etR9J/x4/y1fHxuJJHFL44P4eWTw+jd2IK+ng50+Ywn4YmiCHHyUJzr\no2FYZAHuEufkE1FpGWryjz/+OO6//358+9vfhq7r+Ld/+zd85StfwT/90z8Z/kPDw8M4f/487rjj\nDoyPj6O1tRVA/oNAKBRa3uiJ6lzh/r2maYjFEyW7fy8IAjZ1erCpc3Z8bk7VcfLiGE5eXH58rmyx\nQQMQDCchCQnYrTKn8olqkKHp+g9/+MP4j//4j0W/N59EIoGHH34Yn//853HPPfdg9+7dOHbs2NTP\n9+zZg6NHjy5x6ESNSVVVTERiSGVyyGkCzObSXClnFRWvnQvglRPDuBaYOVXqsst4z52deM+dnWh2\nL/0DhqZpyCkZ2C0mNLkdUzMVRFRdhq7ke3p68OKLL+IjH/kIAOCVV17Btm3bDP2BXC6HP/mTP8FH\nPvIR3HPPPQCAlpYWjI2NobW1FcFgcNFp/wLew1kc73UZV9u1MsEqmZDNZhENTeTv34syTFJxIZW3\nd3mwtdONodE4+gfz8bmqpiOWVPCzI2/hv/rfwrb1Xuzd3oH1Hfn43MI9eSPiCQ0jgQAkQS/L1f1C\npwrWgtp+TtUO1smYii2827t3L8LhMCwWCwRBQDqdX9BTWHh37ty5eX/3iSeeQHNzM7761a9Ofe+v\n//qvp1blc+FdafHFY1y91SqZTCGeSiOT1SCZrSVpntHkzPjc6Qrxuf/jrnVIxNPzPML88gv1MrCa\nTXA7bSW5uv/N69enThUEgPe/s3PGqYLVVm/PqWphnYypWJMfHx/HT3/6U0Sj0Rnff+yxxxb8vRMn\nTuCTn/wktmzZAkEQIAgCDh06hN7eXnzpS1/CjRs30NnZiaeffhput3vRwfJJsTi+eIyr11ppmoZI\nNIZkOgddkCZT64qzUHyu3SJhxxYf9vS0o2UZU/kAoCgZSKIOh9Vc1LG3//elSzMOHNrS1YSP37N5\n2Y9XavX6nKo01smYiq2uP3jwILZu3YrVq5f2iXnnzp3zXuU/99xzS3osokaz3KlnURTR3ORBM4BU\nKo1YMoV0VoPZYlv2WGbF5w768fqb41BUDclMDr89fQOvnr6BLWubsLdn6fG58uQZ91PxuRZpWdvw\nOn0OnLwYRDanwiyZ0GnwVEGilcrwDb6nnnqqnOMgWnFefePG1NRz4ep0qVPPNpsVNps1H7YTjSOZ\nyRW99351qwMPvHcj7tuzDicujOL4+VGMRdL5+NxrYVy4djM+d8cWH2yWpcfnLnsb3q0Tj8ZiPohW\nLNM3v/nNby72H4VCIbz11ltwu91IJBKIxWKIxWKGUupKKZnMVvTv1SOHw8I6GVTtWh0548d49Oa9\nblky4R0bWpb1WKIowmazwu20A5qCTDYNVdUgmpa/UE+WRKzrcOH3370BXqcZqUwOoWgGAJDK5HBp\nOIKBQT/C8QyaXJYlBewAgEmSoQsSYsk0kqkUdE2FxbJwEuCRMwHEUgpsFglm2QRzETUrh2o/p+oF\n62SMw1H8OhZD7wCxWAzPPvssmpubp74nCAIOHz5c9ACIVqoun2PG/eWuEk095w/LcSKbzSISSyBd\n5EI9URTQva4Z3euaZ8XnZnMajp0bxbFzo7htlRt7ty89Pneuqfwmz9wn4ZWrZkSNylCT/8UvfoH+\n/n5YraU5YIOIgH29qwBgxj35UjKbzfC1mCcPyokhkc5B08WicvN9TTZ8aN96fOCuNZPxuQEEwykA\nwNUbUVy9EV12fO7USXiajpHABCxmES6HDbZp7zt739GBi0PhqQOC9r6jY9n/FqKVwFCTX7NmDSKR\nCJs8UQkVzqgvN0EQ4HG74XEDqXQa8UQaqWyuqGNwb43PHRj049zbM+NzD5/Ix+fu3b60+FxBEKYS\n9cbDaYhCAg6bDLfLhf7TfgyPJSCIAobHEug/7a+pLXREtcZQkxcEAR/84AexefNmyNO263zve98r\n28CIqPRsVitsVuvUNrxEuriFegvF56qajlOXxnDq0vLjc6XJ8+yTio6oP4TzV/3I5RRIUv59aDho\nLKSHaKUy1OQfffTRco+DiCpo+ja8WDyBWDI1OZW//IU+zS4L7tuzFnfv7MIbl8fQPxjA9bF8Ex4a\njWNoNI6f9b+Nu7rbsae7DR6n8b9VuLpf1ebF5RtD+X33Jon35IkWYfio2VrA8ITFMWTCONZqpkwm\ng0gsifQtJ+ItJdZ2Ol3XZ8XnFogCsG29F309HbhtlcvwbQNN13HyQhD+UBI+jxk7NjXBbpXgdjpm\nzDJWC59TxrBOxlQsDIdopaj1bPRyslgsaLNYoGkawpOJeoJp+Yv0BEHA2nYX1ra7cH9fdnIVfj4+\nV9OBM1dDOHM1NBWfe+emVpjlhW8biIKAXbe3zfieogP+8RgkEfmG7zL+oYGo0fFKvsHwE7Jxc9Wq\n1rPRKy0ai8NslTEWShW1Kr9A1TQMXp1A/6B/Vnyu1WzCrq1tRcXn6roOJZuCzSzB5bRV/Kx7vv6M\nYZ2M4ZU8UYndupCrnAu76mHWwO1ywudzQVeDiMaTyCh6UfG5JlFE78YW9G5sycfnng3g9UtjUFQN\n6axadHyuIAgwW+xQAYyFUxAQh90iwe1aeoQuUSNgkyeappJhK6WIta2Uwqp8VVWnpvJNsnXOwBqj\nVrc68MD+Dbhv91qcuDCKgbMBTMQyJYnPBTA185BWdcSCEchifuufy2Gvifv3RJXAJk80TbkDaqar\n5KxBqZhMJrQ0N8Gr61Or8iEUd8693SrhPXesxr53rMKFoTD6z/jx5kgEADAeTeOn/W/jl8eHcOfm\nVvT1dKDDa1/S4wuCALM5P/2f1fL3701i/vaAh1f41ODY5ImmqVRADVDfEa2CIEzF58YTCUTjKehF\nNvslxef2tKN7vXdJ8bkF8rSGPzJ5hW+3SnA5nUXNTBDVIjZ5oiqp5KxBOTkdDjgdjpI1e2BmfO6p\nS0H0G4zPnb7FrsNrx46tvgXv6Reu8JOKjkggBJvZBIfNCrt9+esOiGoJV9c3GK5aNY61MmapdUok\nk4jEU9B0CVKJ7n3ruj4rPrfAJApT8bn+8SQGzgamftY3+SFgKXKKAgE52MxLP/OezyljWCdjuLqe\niGqOw26Hw25HMplCJJ6EqpuK3n5nND7XaZMhmUTYLCYIggB/KLnkv5X/YCIjq+en880mwG41w+V0\ncP891R02eSIqC7vdBrvdhlQ6jVgihYyiT90PL8ZC8bnxlAIAiCYAu1WG21Hch4vCdH48oyESD8Fq\nFjmdT3WFTZ6Iymqu7XdSESfgFciSiJ1b27Bjiw9Do3EcOePH4NV8fK6m5xv+L45dw/BofMnxubcS\nRRGixQYVwERcQSiahM2S345nNhcfEkRULmzyRFQR07ffhSNRxFNKSZr99PjcaDKL4yWIz13w3yFJ\nACQoOhCYSMCEGKyWfH4+Ua3hwrsGwwUtxrFWxpSrTpqmIRyJIZ5WYLYsbe/7YvLxuSH0DwbmjM/d\nudWHvp6OZcfnziWbSaHd50I6meZ2vEXwtWcMF94RUd0SRRHeZg88qopQOIpUVisqMheYvYXusx/a\nNrXifnp87qun/Thy2o8ta5qwd/vS43PnYrbYIEgWJBUF0cAEzLIIm0Xmgj2qKjZ5Iqoqk8kEX0sz\nFEXBRCSOjArIyzzX/uSF4NQWurcmr+B33d42f3zuUBgXhoqLz72VIAiQLTbouLlgz2IWYbea4XRw\nSp8qi02eiGqCLMtoa21GNptFKBJHThMgLbHZ37plbvrX0+NzLw6F0T/ox6Xh0sXnzqWwYE8DEEmq\nmIiOwWqW4LBZuEKfKoJNnohqitlsRofPi3Qmg4lIHCokSJKxUJ0Or33qCr7w9a1EUcDt65pxe5nj\nc29lMplgMuVPyAvFsghFk7CaTXA5bLBU+EhcWjnY5ImoJlktFqxqsyCZTCEcSxqKy92x1QcAM2Jt\nF7Lc+NxiFQJ3cgBGw0mYEIfVLMHl5Al5VFpcXd9guGrVONbKmFqpUyyeQDSeBkzmsp0cZyg+t6cD\nXW3OOX/f63UgFFr+aYJKNg1p8khct9MBqcgzAGpVKZ9Tmq7j1TduzDgDothFlLWCq+uJaMVwOR1w\nOR2IxuKIJVJlafa3xuceOxfA8XOz43PXtDnR19OOd2xogWQq3Va56Sfk3RiL5o/ElU1wOmwM3ZnH\nq2/cwMunRgBg6lTHSp0kWQ/Y5IloToUrpPFEFi0Oc81cIRWOuI3G4ogmUhAlS1n2pDe7LLh391q8\nf8fs+Nyh0TiGRuP4Wf/buKu7HXu62+Bxlva++lTDvyV0x+Na2qE5jW44mFjw65WurE3+a1/7Gl55\n5RW0tLTgxz/+MQDgmWeewQsvvICWlhYAwKFDh7B///5yDoOIlqFwhSRLIpScBqC2rpAKzT4SjSGa\nSMEkl6fZ3xqf2z/ox5kr+fjcRDqHV06N4L9/N4Jt6734wN71aHHIJd8XX9hSmNXyh+bIJsA+uQd/\npYfudPkcU1fwha/pprI2+QceeAAPP/wwnnjiiRnff+SRR/DII4+U808TUZGGRuOIJxXkNA2SKGJo\nNF7tIc3J43bB4wYi0RgiiSRevxJDYCJl6Dz5pZgen3t/X3ZyFf7s+Nz2Zhv6ejrwzs3FxefOp3Bo\nTlLREfGHYDGbYLfKcDnnXifQ6Pb1rgKAGffk6aayNvldu3ZhZGRk1vfraK0f0YqVyuQQS2YhCAJ0\nPYdUJlftIS3I43bh9StR9J++Bk0H3vLnm+FSz5M3wmU34+6dXXjfO1dj8OoEBgb9U1v3AhMpvPjb\nq/j5sWv5+NxtHWjxlC4+t0AQBJitdugAoikV4Vh+D77TkT8QaKUQBaGmZphqTVXuyT///PN48cUX\nsX37djz55JNwuYpfQUhEpWWzSnDZzVNX8jZr7S/hGRlLwmK1Q9NUZDMpjAQiZWnyBSZRRO/GFvRu\nbMH1sQROXR7HsTP+OeNz+3rasXlNU1nWNUzfgz8eyQDhBE/JIwBAxW/mfOITn8Dhw4fx4osvorW1\nFX/1V39V6SEQkQFrfE447TJ8TTY47TLW+Gp/OrhwP1YUTbDaHNjU5YaeSyGnZMv+t1e3OvDw73fj\nKw/twO/3rUWzK38fvRCf+7//6wK++/+9jldP3yjrrIgky5DMNii6GYGJBEYC4xgLhZFMpcr2N6l2\nlX2f/MjICB599NGphXdGf0ZE1aVpOg4fv4a3/FGs73Dj7rvWQixB8ls5zTfmRDKFUDgBXZAWDdQp\n5VjOXBnHKyeGcPZqaMbPLLIJe7Z34L07utBZoQ9Pai4HTVVgt0pw2m149XSgrv7f0vKUvckPDw/j\nc5/73FQjDwaD8PnyKVTPPfccTp8+je985zuGHqsWAjlqXa0El9QD1sqYRqpTuQN15gvDCYZTGDgb\nwMkL+fjc6Uodn2vEwOkRHB0cgSAKkM0W3LNzbUXvazfSc6qcaj4M58tf/jKOHj2KcDiM973vffji\nF7+Io0eP4ty5cxBFEZ2dnfjWt75VziEQEU2ZCtSJxhFNpmCSrRU5BtbXZMOH3rUeH9i1cHzu7u52\n3NVduvjc+YzFFJjM+QNyMpkMzl3xo2edo6FT9lYqxto2GH5CNo61MqZR66TrOiLRGOIppWTN3mis\nra7ruHI9iv5lxucW67Xzo1NH8gJA32Q2v5JNT6XsOezWZR2cYyRmtlGfU6VW81fyRES1ShAENHnc\ncLs0jE9EkM7qUylzlfjbGzs92LhIfG6Xz4G92ztKHp8730E+01P2khMpAHFYZBPsVjPsdpuhD0KM\nma0tbPJEtKKJoghfy/Rz7E2Tp8RVxvT43NNXxnHkjH8qPnc4mMAPfnW55PG5oiAsurVQmtx6pwII\nJ1WEoiGYZXHytLz5k/YYM1tb2OSJiHDzHPtEMomJaPky8ecjSyJ2bPHhnZtbF43P7evpwG2rXBVZ\nTwAU9uHboGMyaS8wAVkSYLdIcDmdM+rEmNnawiZPRDSNw26Hw25HJBpDrIKL8wrmis89fi6AaIXj\ncxcan9mSX7RXaPhmSZiK1mXMbG3hwrsGwwUtxrFWxqzkOum6jnAkinhKgWRe/J50sefJz0fVtFnx\nuQVWsykfn9vTgRZ39eJsNU2DqmRgNZsWjdZdyc+ppeDCOyKiMhIEAc1NHjR5dEyEo4inFZgt9oqP\nY3p87o3xBPoHA3j90tic8bl7t3dgU5en4scCi6II0WLLR+uG0xCFBI/GrQG8km8w/IRsHGtlDOt0\nk6YVVuJrkCenrKcr15X8XJLpHE5cHMXAYAATscyMn7W4rejraceOLT7YLNW9lstm0zCbALvVDJfT\nAUEQ+JwyqBRX8mzyDYYvHuNYK2NYp9lUVUUoHEVK0aeOfgUq2+QLNE3HxaEw+gf9uDQcmfEzsyTi\nzs2t6OvpQIe3MjMQmq7j5IXgjO15oiBMTedbzCLWdHqRTmkVXetQjzhdT0RUBSaTCb6WZiiKglAk\nBkUVIMnFb21bDlEUcPu6Zty+rnlWfG42p02eez9asfjckxeCU0E7hfUDu25vm5rO1wBEkhqCgRAs\nZhFWszx1hU+lxyZPRLRMsiyjvdWLdCaDcDQBRanc/vq5GI3P3TOZcFeO+Fx/KLng10D+/r082fDj\nGQ3h+DgssmnRPfi0dGzyRERFslos6PBZYHdIiISi0AW5YqfdzcViNqGvpwN7trXPis+NJLL4xfEh\nHD4xXJb43A6vfcYOgMVuE4iiCLPFPmsPvs1sgsvJRXvFYpMnIioRh92G1e0tk6fdpcp22p1RRuNz\n17Q50dfTXpL43Pkic42Ot7AHP5XTEQ1GIIv5Dy1Ouw3myRQ+Mo4L7xoMF0kZx1oZwzoZd2utorE4\noolMxQN1FqLkNJy+Mo7+M36MjM1cJOiwSiWNz53PchYoKkoGgq7BajbBbrXAbp+9u6HRcHU9zcI3\nZONYK2NYJ+PmqpWu5/fYJ9K5ObfdVYuu67PicwtEAWWNzy12F0Iul4OuZmExmxp64R5X1xMR1ThB\nEOBt9sCdyyEUjiJbxZX4t45renzu8fOjOHo2gFiNxOcuRJIkQJK4cM8AXsk3GF51GcdaGcM6GWek\nVulMBqFIHDqquzhvLpWKzy1XnoCu61AyKZhlETaLDKfDXtcL93glT0RUZ6wWC1a3WRCLJxCJV/60\nu4XcGp87MBjA7+aJz+3racfmNU0Vj89diCAIMFvzq/mTio7waBiySYBVNsHpWJkL93gl32B41WUc\na2UM62TccmoViUYRTWQNHYBTDeWIz61GMmA9LtzjwjuahW/IxrFWxrBOxi23VoXFedU6AMeIheJz\nZUnEO5cQn1uNJj/dzIV7ElxOZ01+wOJ0PRFRAygszvNMZuKnFR2yuXrHxs5lofhcpQrxucWYtXAv\nNg6zLMLagAE8bPJERDWiljLxF2I0Pnd3dzvu6i5PfG6piKI4dR+/EMAjiWiY+/icrm8wnFo1jrUy\nhnUyrtS1SmcymIjEoeoSJLl2G6Wu67PicwtMojArPrfa0/VGKUoGIjRYZBMcdits1srOrnC6noio\ngVktFqxqsyCRTCIcTUGooZX4090an3v0bACvnZ8dn9vlc2BvTwf276r9RW8AIE/OouQAjEcy0Cfi\nsJol2KwyHHZ7Td7HvxWv5BsMr7qMY62MYZ2MK3etItEYoolMza7En07JaXjj8hj6BwO4fkt8rssu\nY+fWtrLH55aLqqrQctnJ/fgSnI7yBPBwdT3Nwjdk41grY1gn4ypRK13XMT4RRiqj1VRM7nwK8blH\nzvgxeHV2fG73ei/2lik+txJ0XUcum4Yk5ffju12lW7jH6XoiohVGEAS0epuRy+UQCseQUW9OK9ei\n6fG5sWQWx86N4rULo4jEs9B0YPBqCIM1Gp9rhCAIUx+20qqOWGHhntkETwkb/rLHxyv5xsKrLuNY\nK2NYJ+OqUatsNotQJI6cJkKS62MluMdjw29ODmFgMDB/fO62DrR4amsb4VJls2mYTYDNIsPtWvpe\nfF7JExGtcGazGR0+L1KpNMKxBFTdVPPN3mQS0buxFb0bW3FjPIH+wQBer6P4XKPMk1kHSUVHxD8O\nq9kEh9UCh6NygUe8km8wvOoyjrUyhnUyrhZqlUqlMRFLQKvhbXdzbaFLpnM4cWEUA2dLF59bi3K5\nHKAp+eAdhw0Wy/y3Wmp+4d3XvvY1vPLKK2hpacGPf/xjAEAkEsGhQ4cwMjKCrq4uPP3003C5jP1D\nqv3iqQe18CZTL1grY1gn4+aqlabrePWNGxgOJtDlc2Bf7yrDV6XF/G4imUQknqrJZr/QPvlSxufW\nOkXJwAQNVos05/37UjR50ze/+c1vFv0o8/B4PPjDP/xD/PKXv8QnPvEJAMDf/u3fYvPmzfjud7+L\nQCCAI0eO4F3vepehx0sms+UaasNwOCysk0GslTGsk3Fz1eq3b9zAy6dGMB5N46o/BkkUsK7D2Jt3\nMb9rlmW4HHaYRA3pVAqaLtTMHnubzYxUSpnzZ4IgoLXJhndu9qF3YwsEQUBwIgVV06FpOkbGEjh6\nNoAr16OwyCJaPLa6nMoHAJNJgmCSoeomRGIJpFIpqKoCWZIgiiIcjuIXVJb1//iuXbvgdrtnfO/w\n4cM4cOAAAODAgQN46aWXyjkEIqKqGg4mFvy6XL9b4LDbsbq9BU1OCZqSQk6Zu7nWokJ87pMP7cCH\n962Hr+nmlsGrN6L4f1+6hL/5v6fwq5MjiM/zoaFeyGYrYLIiqZgwEozg+mgIY6Fw0Y9b8ZsboVAI\nra2tAACfz4dQKFTpIRARVUyXz4GLw+EZX1fid2/lsNvhsNunTePX/gK9AovZhL6eDuzZ1o7L16MY\nmBafG0lk8cvXhvDyyWH0bmxBX08H1kzG59YjQRCmFuxFEwpavcU9XtVXMNRj+AERkVH7elcBwIz7\n6pX43fkUmn0qlUYknqyrrXeCIGBTpwebJuNzj50L4Pi5+eNz37GxBZKpNm5RVEvFm3xLSwvGxsbQ\n2tqKYDAIr9f4x5RSLEJYCVgn41grY1gn4+aq1QP3uOf4L40p5ncXlh9nMpVGKByHBgkmqXItwetd\n/qxE4fc3rvPiD+/ZgtfOjeJXJ4ZwbXLP/XAwgR+8chn/dewa3n1nJ/bf2Ylmd/3tuc+kU0U/Rtn/\nj966eP/9738/fvjDH+LgwYP493//d9x9992GH4srfBfHldDGsVbGsE7G1WutLJIF8UQCobE0YDKX\nPaWt1KfQbe10Y8vqbRgajaN/0I8zV/LxubGkgv888hZ+3v/WZHxuO25b5a6bGWSHvfhZiLJuofvy\nl7+Mo0ePIhwOo7W1FV/84hdxzz334E//9E9x48YNdHZ24umnn561OG8+9fjiqbR6fZOpBtbKGNbJ\nuEaoVTQaRySRgUku34l35T5qNpbM4vj5URw7G0A0OXNBXj3F5zrsIjas8RX1GAzDaTCN8CZTKayV\nMayTcY1SK13XEYnGEEtmy3LiXaXOk1c1DYNXJ9A/6Mfbc8XnbvGhr6d243NL0eSrvvCOiIhqiyAI\naPK44XHrmAhHEU8rMFvqL3zGJIro3diC3o0tc8fnnvHj1TP5+Ny9dRyfuxA2eSIimpMgCPA2e9Ck\naRifiCCl6FPbu+rNqhYHHti/AfftXosTF0cxMHgzPvfiUBgXh8JocVuxZ1s7dm6t//jcgsb4VxAR\nUdmIoghfSzMURUEoEoOi1s+2u1vZrRLe07sa+7avmhWfOx5N42cDb+OXrw01THwumzwRERkiyzLa\nW+vrxLv5iKKA29c14/Z1zQiGUxgYDODkxSAyigolp+HYuVEcOzeK21a5sLenA93rvTCJ9TeVzyZP\nRERLYrNZYbNZ6+LEOyN8TTZ8aN96fOCuNTh1KYj+wQCC4fwe9as3Yrh6IwaPw4zd3e24q7sNTlv9\n/FvZ5ImIaFkKzb6WT7xbiunxuVeuR9E/T3zuOza0YO/2+ojPZZMnIqKizMjFj6WgC3JF0/NKTRAE\nbOz0YOM88bm/e3MMv3uzPuJzuU++wTTKPt1KYK2MYZ2MY63y4okEIvE0ME+zr9Q++VJSchreuDyG\ngcEARsZmjt1hlXBXdzv2dLfB4yz+eNipx+U+eSIiqjVOhwNOhwOxeALRRGreZl9PZEnEzq1t2LHF\nNys+N5HO4ZVTI/jv343UXHxufVediIhqlsvpgMs52ezjqYrk4pebIAhY2+7C2nYX7u/L4ti5URw/\nl4/P1XRg8GoIg1dDNROfy+n6BsPpQuNYK2NYJ+NYq4VFY3HEEhl4fc2IRNLVHk7JFOJzBwb9eGuu\n+NytPvRtW3p8LqfriYiobrhdTrhdTpgtAsaDKQgNcGUPzI7PHRgM4HfT43NP+3HkdD4+t6/C8bls\n8nHxXGYAAAxESURBVEREVFEetxNdHfrkiXepsp54V2mrWhw4sH8D7r0lPlcHcGEojAsVjs9lkyci\noqpwu51wu52TJ96lIEqN0+xrJT6XTZ6IiKrK43bB7dIRjcUQS2Zgkq01sTK9FKbH546FU+g/G8DJ\nC5WLz2WTJyKiqhMEAR63G26XjnAkinhKKctZ9tXU2mTDh961Hh/YtQan3gxiYDCA0Yn543Md9uL3\n3DfGvAgRETUEQRDQ3ORBV0cLLKYclEwKdbQJzBCL2YS+bR340z/sxWc+2I1t65tR+CxTiM/9n//n\nZEn+Fq/kiYio5giCAG+TB01uDaFwBKmMBtliq/awSmp6fG44nsHRszPjc0uBTZ6IiGqWKIpo9TYj\nl8shFI4ikwNk89L2m9eDJqcF9+5ei/fv6MLpK+MYGPSX5HHZ5ImIqOZJkoS2Vi/SmQzC0QRymli3\nZ9kvRJZE7Njiw44txYXgFPCePBER1Q2rxYIOnxdelwWakoKay1V7SDWNTZ6IiOqO3W7D6vYWuGwi\nctkUNE2r9pBqEps8ERHVLbfLic52LxxmDUom2XAr8YvFJk9ERHWtsMe+q6MFFjG/7Y7y2OSJiKgh\nCIIAb7MHq9uaIGoZKEqm2kOqOjZ5IiJqKCaTCW2tzWhvdgBqGjklW+0hVQ2bPBERNSSz2YwOnxct\nbuuKXYnPffJERNTQbDYrbDYrYvEEIvHGOu1uMSvjX0lERCuey+lAV0fLilqJzyZPREQryvSV+NlM\nstrDKauqTde///3vh9PphCiKkCQJ//qv/1qtoRAR0QpTWInfpGkYn4ggnW28A3CAKjZ5QRDw/e9/\nHx6Pp1pDICKiFU4URfhamqGqKkLhKNKK3lAH4FRtul7XdcYQEhFRTTCZTPC1NKOjxQVRS0PJpqs9\npJKoWpMXBAGf/vSn8eCDD+KFF16o1jCIiIimyLKMtlYvfA2yx17Qq7S8cHR0FG1tbQiFQnjkkUfw\njW98A7t27arGUIiIiOaUTKUxPhEHRBmiyVTRv51Jp7BhTXFHzlbtnnxbWxsAwOv14vd+7/dw+vTp\nRZt8MBirxNDqms/nYp0MYq2MYZ2MY62Mqbc6WWULorE4ookMTLIVgiBU5O867MVPtldluj6VSiGR\nSAAAkskkfvvb32Lz5s3VGAoREdGiCqfdWUz1te2uKlfyY2NjeOyxxyAIAlRVxYc+9CG8+93vrsZQ\niIiIDBEEAd4mDzyuyZX4OUCWLdUe1oKq0uTXrFmDF198sRp/moiIqCiFlfiZbBYTkThymgmSLFd7\nWHNi4h0REdEyWCYPwGl2yVCVFFRVrfaQZmGTJyIiKoLDbkdnewtcVgFKJlVTGTBs8kRERCXgdjnR\n1eGFTVKhZFI1cQAOmzwREVGJCIKA5iYPOtubIQtZKJlUVcfD8+SJiIhKTBRFtHqbkcvlEArHkMlV\nJxOfV/JERERlIkkS2lqbqxaTyyZPRERUZlaLBR0+L7wuCzQlBa1CK/HZ5ImIiCrEbrdhdXsLnBVa\nic8mT0REVGGFlfh2WUMuW76V+GzyREREVSAIApo8bqxuK99KfK6uJyIiqqKZK/GjyKoCpBJl4vNK\nnoiIqAbkV+J70dpkh55LQc0pxT9mCcZFREREJWK1WLCqzQKHo/gWzSt5IiKiGmS324p+DDZ5IiKi\nBsUmT0RE1KDY5ImIiBoUmzwREVGDYpMnIiJqUGzyREREDYpNnoiIqEGxyRMRETUoNnkiIqIGxSZP\nRETUoNjkiYiIGhSbPBERUYNikyciImpQbPJEREQNik2eiIioQVWtyf/3f/837rvvPtx777149tln\nqzUMIiKihlWVJq9pGv7iL/4C//zP/4yf/OQn+OlPf4rLly9XYyhEREQNqypN/o033sC6devQ2dkJ\nWZbxwQ9+EIcPH67GUIiIiBpWVZp8IBDAqlWrpr5ub2/H6P/f3v2FNNX/cQB/H91N2OPFmg1aVGyx\n6qJ1I11keLGGkTW3kXYRWbRgENQqJIhJEEEQeRPpzQq66A9d9McCi6DmxRJh/bloF2Y4CDdtTm0t\nSos19/1dyLOHrU19Yr/Oec7eryt3nPjxzefs4/ec+XVyUo5SiIiIVItvvCMiIlIpjRzfVK/X4+PH\nj7nHiUQCK1euXPTr6ur++n+WpRrMaemY1dIwp6VjVkvDnP4MWVbymzdvRjQaxfj4ONLpNB4/fowd\nO3bIUQoREZFqybKSr66uxtmzZ+F2uyGEQGtrK0wmkxylEBERqZYkhBByF0FERETlxzfeERERqRSH\nPBERkUpxyBMREamU4oc897hfmNVqRUtLC5xOJ1pbWwEAX758gdvtxs6dO3HkyBF8/fpV5ir/PJ/P\nh23btsFut+eOLZSL3+9HU1MTdu3ahYGBATlKlk2xrHp6etDY2AiXywWXy4VgMJj7XKVmNTExgYMH\nD2L37t2w2+24ceMGAPZVocKcbt68CYA9VUw6nUZbWxucTifsdjt6enoAlLmnhILNzc0Jm80mxsbG\nRDqdFi0tLSISichdlqJYrVaRSqXyjl26dElcvXpVCCGE3+8XXV1dcpQmq1evXomhoSGxZ8+e3LFS\nuYyMjAiHwyF+/vwpYrGYsNlsIpvNylK3HIpl1d3dLa5fv/7LcyORSMVmNTk5KYaGhoQQQnz79k00\nNTWJSCTCvipQKif2VHGzs7NCCCEymYxoa2sTb9++LWtPKXolzz3uFyeEQDabzTsWCATgcrkAAC6X\nC8+fP5ejNFnV19ejtrY271ipXPr7+9Hc3AyNRoPVq1dj7dq1CIfDf7xmuRTLCpjvrUKBQKBis6qr\nq8OmTZsAADU1NTCZTEgkEuyrAsVy+nvbcvbUr5YtWwZgflWfyWQAlPe1StFDnnvcL06SJLjdbuzd\nuxd3794FAHz69Ak6nQ7A/AmXTCblLFExkslk0VyK9VkikZClRiW5desWHA4HOjs7c5cLmdW8sbEx\nDA8PY8uWLSXPN2b1T04WiwUAe6qYbDYLp9OJhoYGNDQ0wGKxlLWnFD3kaXF37txBb28vrl27htu3\nb+P169eQJCnvOYWPaR5zKW3//v0IBAJ49OgRdDodLl68KHdJijEzMwOv1wufz4eamhqebyUU5sSe\nKq6qqgoPHz5EMBhEOBzGyMhIWXtK0UP+d/e4ryR/56HVamGz2RAOh7FixQpMT08DAKampqDVauUs\nUTFK5aLX6xGPx3PPm5iYgF6vl6VGpdBqtbkXln379uUuCVZ6VplMBl6vFw6HAzabDQD7qphiObGn\nFrZ8+XJs3boVL168KGtPKXrIc4/7hX3//h0zMzMAgNnZWQwMDMBsNsNqteLBgwcAgN7e3orNrPD+\nX6lcrFYrnjx5gnQ6jVgshmg0mru8WCkKs5qamsp9/OzZM5jNZgDMyufzYf369Th06FDuGPvqV8Vy\nYk/9KplM5m5b/PjxA4ODgzCZTGXtKcVvaxsMBnHhwoXcHvcej0fukhQjFovh2LFjkCQJc3NzsNvt\n8Hg8SKVSOHnyJOLxOAwGAy5fvlz0jVVq1tHRgVAohFQqBZ1Oh+PHj8Nms+HEiRNFc/H7/bh37x40\nGg06Ozuxfft2mX+CP6dYVqFQCO/evUNVVRUMBgPOnz+fu0dYqVm9efMGBw4cgNlshiRJkCQJp06d\ngsViKXm+VWJWpXLq6+tjTxV4//49zpw5g2w2i2w2i+bmZhw9enTB1/B/m5XihzwRERH9HkVfrici\nIqLfxyFPRESkUhzyREREKsUhT0REpFIc8kRERCrFIU9ERKRSHPJElPPy5Uu0t7fLXQYRlQmHPBHl\n4d7rROqhkbsAIlKWZDIJj8eDaDQKo9GI06dPw+v1Ys2aNRgdHYXBYEBXV1fF7aJI9F/ElTwR5YnH\n4zh37hyePn2K6elpDA4OIhKJ4PDhw+jr64PRaMSVK1fkLpOIloBDnojybNy4EatWrQIAGI1GfP78\nGevWrUN9fT0AwOl0IhQKyVkiES0RhzwR5amurs59LEkSDAYDNJp/7uwJIfIeE5FyccgT0aI+fPiA\n4eFhAMD9+/fR2Ngoc0VEtBT8dZyIFiRJEmpra9Hd3Y3R0VFs2LABHR0dcpdFREvAfzVLRAsaHx9H\ne3s7+vv75S6FiP4lXq4nokXxb+eJ/pu4kiciIlIpruSJiIhUikOeiIhIpTjkiYiIVIpDnoiISKU4\n5ImIiFSKQ56IiEil/geTAW3FEXBo4QAAAABJRU5ErkJggg==\n",
      "text/plain": [
       "<matplotlib.figure.Figure at 0x11a390610>"
      ]
     },
     "metadata": {},
     "output_type": "display_data"
    }
   ],
   "source": [
    "sns.regplot(CarData.hp, CarData.mpg)\n",
    "plt.show()"
   ]
  },
  {
   "cell_type": "markdown",
   "metadata": {},
   "source": [
    "#### How do you interpret these graphs?"
   ]
  },
  {
   "cell_type": "code",
   "execution_count": 15,
   "metadata": {
    "collapsed": false
   },
   "outputs": [
    {
     "data": {
      "text/plain": [
       "count     31.000000\n",
       "mean     140.612903\n",
       "std       60.310683\n",
       "min       52.000000\n",
       "25%       96.000000\n",
       "50%      123.000000\n",
       "75%      180.000000\n",
       "max      264.000000\n",
       "Name: hp, dtype: float64"
      ]
     },
     "execution_count": 15,
     "metadata": {},
     "output_type": "execute_result"
    }
   ],
   "source": [
    "CarData['hp'].describe()"
   ]
  },
  {
   "cell_type": "code",
   "execution_count": 16,
   "metadata": {
    "collapsed": false
   },
   "outputs": [
    {
     "data": {
      "image/png": "iVBORw0KGgoAAAANSUhEUgAAAfsAAAFmCAYAAABqczNPAAAABHNCSVQICAgIfAhkiAAAAAlwSFlz\nAAALEgAACxIB0t1+/AAAG8FJREFUeJzt3X9sVuX9//HX6Q+GK9UBvamlIJO6Ak7KvhvBSR0zpViw\nK7TyI/uYoSmGBhfsIDgmxSVmU1jQmU1ItnaT8AEXE36KgNkcRVcEwWEIXYIdkDCh0JZCV6jVCuU+\n3z/4UCmW9txw373Ofd3Px1+cA73vd9+c9nWf61znOo7ruq4AAIC14kwXAAAAIouwBwDAcoQ9AACW\nI+wBALAcYQ8AgOUIewAALNcrYV9WVqbx48eroKCgY9/58+c1Z84c5eXl6cknn1RLS0tvlAIAQMzp\nlbB/9NFH9dprr3XaV1FRoQceeEB/+9vfdP/996u8vLw3SgEAIOb0StiPHTtWt99+e6d9lZWVKioq\nkiQVFRVp586dvVEKAAAxx9g1+6amJqWkpEiSAoGAmpqaTJUCAIDVfDNBz3Ec0yUAAGAlY2E/cOBA\nnT17VpLU2NioAQMGePo6lvIHACA0Cb31RteHdE5OjjZv3qySkhJt2bJFEydO9PQ6juOosZGZ+z0J\nBJLpk0f0yhv65B298oY+eRMIJN/ya/TKmf2iRYv04x//WMePH9dDDz2kTZs2qaSkRHv37lVeXp72\n7dunkpKS3igFAICY0ytn9r/97W+73L9mzZreeHsAAGKabyboAQCAyCDsAQCwHGEPAIDlCHsAACxH\n2AMAYDnCHgAAyxH2AABYjrAHAMByhD0AAJYj7AEAsBxhDwCA5Qh7AAAsR9gDAGA5wh4AAMsR9gAA\nWI6wBwDAcoQ9AACWI+wBALAcYQ8AgOUIewAALEfYAwBgOcIeAADLEfYAAFiOsAcAwHKEPQAAliPs\nAQCwHGEPAIDlCHsAACxH2AMAYDnCHgAAyyWYLmDNmjXauHGjHMdRZmamli9frj59+pguCwAAaxg9\ns29oaNC6deu0efNmbdu2TZcvX9bbb79tsiQAAKxj/Mw+GAzq888/V1xcnNra2jRo0CDTJQEAYBWj\nYZ+amqri4mI99NBDuu2225Sdna3x48ebLAkAAOs4ruu6pt78woULevrpp/X73/9eycnJKi0t1eTJ\nk1VQUGCqJAAArGP0zH7v3r0aOnSovvGNb0iSJk2apIMHD/YY9o2NLb1RXlQLBJLpk0fh6FXQdbWn\nuk61ja0aEkhSdlaa4hwnTBX6A8eUd/TKG/rkTSCQfMuvYTTsBw8erEOHDumLL75Qnz59tG/fPo0e\nPdpkScBN2VNdp10HT0mSjtQ2S5J+MGawyZIAoIPRsM/KylJeXp4KCwuVkJCge++9V7NmzTJZEnBT\nahtbu90GAJOMz8afP3++5s+fb7oM4JYMCSR1nNFf3QYAvzAe9oANsrPSJKnTNXsA8AvCHgiDOMfh\nGj0A32JtfAAALEfYAwBgOYbx4Vks3EsOADYi7OEZ95IDQHRiGB+ecS85AEQnwh6eXX/vOPeSA0B0\nYBgfnnEvOQBEJ8IennEvOQBEJ4bxAQCwHGEPAIDlCHsAACxH2AMAYDnCHgAAyxH2AABYjrAHAMBy\nhD0AAJYj7AEAsBxhDwCA5Qh7AAAsR9gDAGA5wh4AAMsR9gAAWI6wBwDAcoQ9AACWI+wBALAcYQ8A\ngOUIewAALGc87FtaWlRaWqopU6YoPz9fhw4dMl0SAABWSTBdwIsvvqgf/vCHevXVV9Xe3q62tjbT\nJQEAYBWjZ/affvqpDhw4oOnTp0uSEhIS1K9fP5MloQdB19XuQ6f1xs6j2n3otIKua7okAEAPjJ7Z\n19bWqn///lqyZIlqamp03333aenSperbt6/JstCNPdV12nXwlCTpSG2zJOkHYwabLAkA0AOjZ/bt\n7e06fPiwHnvsMW3ZskV9+/ZVRUWFyZLQg9rG1m63AQD+Y/TM/s4779Sdd96p0aNHS5Ly8vL05z//\nucevCwSSI12aFSLRp1HDB+p4/YVO2zb8f9jwPfQG+uQdvfKGPvUOo2GfkpKitLQ0HT9+XHfffbf2\n7dunjIyMHr+usbGlF6qLboFAckT6lHV3f7W0tKm2sVVDAknKurt/1P9/RKpXtqFP3tErb+iTN+H4\nQGR8Nv5zzz2nZ555Ru3t7Ro6dKiWL19uuiR0I85xuEYPAFHGeNiPHDlSmzZtMl0GAADWMh72AADc\nqqDrak91XcclxuysNMU5jumyfIOwBwBEPW4L7p7x5XIBALhV3BbcPcIeABD1hgSSut2OdQzjAwCi\nXnZWmiR1umaPLxH2AICox23B3WMYHwAAyxH2AABYjrAHAMByhD0AAJYj7AEAsBxhDwCA5Qh7AAAs\nR9gDAGA5wh4AAMsR9gAAWI6wBwDAcoQ9AACWI+wBALAcYQ8AgOUIewAALEfYAwBgOcIeAADLEfYA\nAFiOsAcAwHKEPQAAliPsAQCwHGEPAIDlCHsAACzni7APBoMqKirSvHnzTJcCAIB1fBH2a9euVUZG\nhukyAACwkvGwr6+v1z/+8Q/NnDnTdCkAAFjJeNgvW7ZMixcvluM4pksBAMBKRsP+vffeU0pKikaN\nGiXXdU2WAgCAtRzXYMq+8soreuuttxQfH68vvvhCra2tmjRpklasWGGqJAAArGM07K/14YcfavXq\n1frjH//Y479tbGzphYqiWyCQTJ88olfe0Cfv6JU39MmbQCD5ll/D+DV7AAAQWQmmC7hq3LhxGjdu\nnOkyAACwDmf2AABYjrAHAMByhD0AAJYj7AEAsBxhDwCA5Qh7AAAsR9gDAGA5wh4AAMsR9gAAWI6w\nBwDAcoQ9AACWI+wBALAcYQ8AgOUIewAALEfYAwBgOcIeAADLJZguAJETdF3tqa5TbWOrhgSSlJ2V\npjjHMV0WAKCXEfYW21Ndp10HT0mSjtQ2S5J+MGawyZIAAAYwjG+x2sbWbrcBALGBsLfYkEBSt9sA\ngNjAML7FsrPSJKnTNXsAQOwh7C0W5zhcowdgBBOE/YWwBwCEHROE/YVr9gCAsGOCsL8Q9gCAsGOC\nsL8wjA8ACDsmCPuLp7CfPXu2nGsmVjiOo759+2r48OGaN2+e7rjjjogVCACIPkwQ9hdPYX/PPfco\nISFB06dPlyRt375d9fX1Sk1N1dKlS7Vq1aqIFgkA12KmNxAaT2F/6NAhbd68uWN75MiRmj59ul5+\n+WW9+eabESsOALrCTG8gNJ4m6F26dElHjx7t2D569KiCwaDa2tp06dKliBUHAF1hpjcQGk9n9s89\n95zmzp2rgQMHKhgM6sKFC1qxYoVWrlypadOm3fSb19fXa/HixTp37pzi4uI0c+ZMPf744zf9egBi\nw5BAUscZ/dVtADfmKezvv/9+7dy5U0eOHFF8fLyGDx+uxMREffe73+00cS9U8fHxWrJkiUaNGqXW\n1lY9+uijys7OVkZGxk2/JgD7MdMbCI2nsD99+rReeOEFffDBB0pMTNSECRNUVlamAQMG3NKbBwIB\nBQIBSVJSUpIyMjJ05swZwh5At5jpDYTG0zX7Z555RuPHj9fu3btVWVmp++67T7/4xS/CWkhtba1q\namqUlZUV1tcFACDWOa7ruj39o6lTp+qtt97qcd/Nam1t1ezZs/XTn/5Uubm5YXlNAABwhadh/G9/\n+9vaunVrx2S89957T/fee29YCmhvb1dpaammTZvmOegbG1vC8t42CwSS6ZNH9Mob+uQdvfKGPnkT\nCCTf8mt4OrN/4IEH1NzcrK997WtyHEdtbW2SJNd15TiOPv7445suYPHixerfv7+WLFni+Ws4OHrG\nD5F39Mob+uQdvfKGPnkTjrD3dGa/fft27dixQxcuXOi0f/78+bf05h999JG2bdumzMxMFRYWynEc\nLVy4UBMmTLil1wVgN1bQCw/6GDs8hX1JSYlGjBihwYPDO/v1e9/73i2NCgCITaygFx70MXZ4furd\nsmXLIlkHcNM4O4k9rKAXHvQxdngK+9zcXG3YsEHf//73FR8f37E/3Gf6wM3g7CT2sIJeeESyj3wI\n9xdPYd/S0qKKigr179+/Y5/jOKqsrIxYYYBXnJ3EHlbQC49I9pEP4f7iKezfeecdffDBB+rbt2+k\n6wFCxlle7GEFvfCIZB/5EO4vnsJ+6NChOn/+PGEPX+IsD/AfPoT7i6ewdxxH+fn5+ta3vqXExMSO\n/WvXro1YYYBXnOUB/sOHcH/xFPbz5s2LdB0AAIvwIdxfPIX9uHHjIl0HAHjGTG8gNJ7vswcAv2Cm\nNxAaT4+4BQA/YaY3EBrCHkDUuX5mNzO9ge4xjA8g6jDTGwgNYQ8g6jDTGwgNw/gAAFiOM3uEhFue\nACD6EPYICbc8AUD0YRgfIeGWJwCIPoQ9QsItTwAQfRjGR0i45QkAog9hj5BwyxMARB+G8QEAsBxh\nDwCA5Qh7AAAsR9gDAGA5wh4AAMsR9gAAWI5b7wBYh2c4AJ0R9gCswzMcgM4YxgdgHZ7hAHRmPOyr\nqqo0efJk5eXlqaKiwnQ5ACzAMxyAzowO4weDQf3617/WmjVrNGjQIM2YMUMTJ05URkaGybIARDme\n4QB0ZjTsq6urNWzYMKWnp0uS8vPzVVlZSdgDuCU8wwHozOgwfkNDg9LSvvzEnZqaqjNnzhisCAAA\n+xi/Zh+qgoKCTttPPPFjttlmm222o3Cb3+ehbd8Ko8P4qampOn36dMd2Q0ODBg0a1OPXBQLJHX+O\nj49j+wbbgUCyr+rx67b05THlh3rYtmObn7+etyV+n4far5vluK7rhuWVbsLly5c1efJkrVmzRoFA\nQDNnztQrr7zS4zX7xsaWXqowegUCyfTJI3rlDX3yjl55Q5+8CUfgGz2zj4+P1y9/+UvNmTNHrutq\nxowZTM4DACDMjK+gN2HCBE2YMMF0GQAAWCvqJugBAIDQEPYAAFiOsAcAwHKEPQAAliPsAQCwHGEP\nAIDljN96BwDhFnRd7amu6/TUuzjHMV0WYAxhD8A6e6rrtOvgKUnSkdpmSeIpeIhpDOMDsE5tY2u3\n20CsIewBWGdIIKnbbSDWMIwPwDrZWWmS1OmaPRDLCHsA1olzHK7RA9dgGB8AAMsR9gAAWI6wBwDA\ncoQ9AACWI+wBALAcs/FhLZZMBYArCHtYiyVTAeAKhvFhLZZMBYArOLOHVa4duv+s7VKnvwvnkqlc\nIgAQTQh7WOXaoXvXdTU00E9f75sYtiVTr4b8/o8b1ND0uZJuS+ASAQDfI+xhlWuH6h3H0df7Jup/\ncr8Vtte/+mGi6UKbvrh4WZLU7+uJXCIA4Gtcs4dVIv20s6uh3ichXpJ0sf1yRN4HAMKJM3tYJdJP\nOxsSSNKR2mb1+3qiJCl1wG26f1QqT1UD4GuEPawS6aeddfVhgol5APyOsAdCwKNTAUQjrtkDAGA5\nzuyBm9AeDOp/367RyTOfauigfnrikZFKiOOzMwB/Mhb2K1as0Lvvvqs+ffrorrvu0vLly9WvXz9T\n5QAh+d+3a/TPmjOSpPqmzyRJT/7oXpMl4RosegR0ZuxU5MEHH9SOHTu0detWDRs2TOXl5aZKAUJ2\n8syn3W7DrKvrIRypbdaug6e0p7rOdEmAUcbCfvz48Yr7v2HP73znO6qvrzdVChCyoYP6dbsNs3gu\nAtCZL67Zb9y4Ufn5+abLADx74pGRktTpmj384+p6CNduA7EsomFfXFyss2fPfmX/woULlZOTI0n6\nwx/+oMTERBUUFESyFCCsEuLiuEbvY5FeXAmINo7ruq6pN9+8ebPWr1+vtWvXqk+fPqbKAADAasaG\n8auqqvTaa6/p9ddfDznoGxtbIlSVPQKBZPrkEb3yhj55R6+8oU/eBALJt/waxsL+hRde0KVLlzRn\nzhxJ0pgxY/T888+bKgcAAGsZC/t33nnH1FsDABBTfDEbH/5j26Iktn0/ABAKwh5durooiaSOW5ii\n+QEwtn0/ABAKFvNGl2xblMS27wcAQkHYo0vXL0IS7YuS2Pb9AEAoGMZHl2xblMTP3w/zCQBEGmGP\nLsU5jlXXtP38/TCfAECkMYwPGMZ8AgCRRtgDhjGfAECkMYwPGObn+QQA7EDYA4b5eT4BADswjA8A\ngOUIewAALEfYAwBgOcIeAADLEfYAAFiOsAcAwHKEPQAAliPsAQCwHGEPAIDlCHsAACxH2AMAYDnC\nHgAAyxH2AABYjrAHAMByhD0AAJYj7AEAsBxhDwCA5Qh7AAAsl2C6AABA94Kuqz3VdaptbNWQQJKy\ns9IU5zimy0IUIewBwOf2VNdp18FTkqQjtc2SpB+MGWyyJEQZ48P4q1ev1siRI9Xc3Gy6FADwpdrG\n1m63gZ4YDfv6+nrt2bNHgwfzCRWxK+i62n3otN7YeVS7D51W0HVNlwSfGRJI6nYb6InRYfxly5Zp\n8eLFeuqpp0yWARjl9yHaq9eLz7Ve1MCkPlwvNiA7K02SOl2zB0JhLOwrKyuVlpamESNGmCoB8AW/\nD9Fe/TCSmBCnS+1BSf76MBIL4hyHnuOWRDTsi4uLdfbs2a/sX7BggcrLy7V69eqOfW4IQ5eBQHJY\n6rMdffLOZK9GDR+o4/UXOm376f/uXOtFJSZcueKXmBCnc60XfVWfX9Ejb+hT73DcUFI2TI4cOaLi\n4mL17dtXruuqoaFBqamp2rBhgwYOHNjj1zc2tvRCldEtEEimTx6Z7pXfb6vafeh0pzP7nP+Xzllm\nD0wfU9GCPnkTjg9ERobxMzMztWfPno7tnJwcbdmyRXfccYeJcgCj/D5Ee/X68LXX7AFEF1/cZ+84\nTkjD+AB6z9UPI5yFAdHLF2FfWVlpugQAN8BsfCD6+SLsAfgXs/GB6Gd8BT0A/ub3WwMB9IywB9At\nVm8Doh/D+AC6xWx8IPoR9gC6xWz88PD7egqwG2EPAL3A789AgN24Zg8AvYCJjjCJsAeAXsBER5jE\nMD4A9AIeUwuTCHsA6AV+fwYC7MYwPgAAliPsAQCwHGEPAIDlCHsAACzHBD2gC6x2BsAmhD3QBVY7\nA2AThvGBLrDaGQCbEPZAF1jtDIBNGMYHusBqZwBsQtgDXWC1MwA2YRgfAADLEfYAAFiOsAcAwHKE\nPQAAliPsAQCwHGEPAIDlCHsAACxH2AMAYDnCHgAAyxkN+3Xr1mnKlCkqKCjQyy+/bLIUAACsZWy5\n3P379+vdd9/Vtm3blJCQoKamJlOlAABgNWNn9m+88Ybmzp2rhIQrnzcGDBhgqhQAAKxmLOz/85//\n6MCBA5o1a5Zmz56tf/3rX6ZKAQDAahEdxi8uLtbZs2e/sn/BggW6fPmyzp8/r/Xr16u6uloLFixQ\nZWVlJMsBACAmOa7ruibeeO7cuZo7d67GjRsnSZo0aZLWr1+v/v37mygHAABrGRvGz83N1b59+yRJ\nx48fV3t7O0EPAEAEGDuzv3TpksrKylRTU6PExEQ9++yzHWf5AAAgfIyFPQAA6B2soAcAgOUIewAA\nLEfYAwBguagJ+6qqKk2ePFl5eXmqqKgwXY7v5OTkaOrUqSosLNSMGTMkSefPn9ecOXOUl5enJ598\nUi0tLYar7H1lZWUaP368CgoKOvZ115fy8nI9/PDDmjJlit5//30TJRvTVa9WrVqlCRMmqKioSEVF\nRaqqqur4u1jtVX19vR5//HHl5+eroKBAa9eulcRxdb3r+7Ru3TpJHFNduXjxombOnKnCwkIVFBRo\n1apVksJ8TLlR4PLly25ubq5bW1vrXrx40Z06dap77Ngx02X5Sk5Ojtvc3Nxp34oVK9yKigrXdV23\nvLzcfemll0yUZtQ///lP9/Dhw+6PfvSjjn036svRo0fdadOmuZcuXXJPnjzp5ubmusFg0EjdJnTV\nq5UrV7qrV6/+yr89duxYzPbqzJkz7uHDh13Xdd1PP/3Uffjhh91jx45xXF3nRn3imOraZ5995rqu\n67a3t7szZ850Dx06FNZjKirO7KurqzVs2DClp6crMTFR+fn5rLZ3Hdd1FQwGO+2rrKxUUVGRJKmo\nqEg7d+40UZpRY8eO1e23395p3436smvXLj3yyCNKSEjQkCFDNGzYMFVXV/d6zaZ01SvpyrF1vcrK\nypjtVSAQ0KhRoyRJSUlJysjIUENDA8fVdbrq05kzZyRxTHXltttuk3TlLL+9vV1SeH9XRUXYNzQ0\nKC0trWM7NTW146DBFY7jaM6cOZo+fbo2bNggSTp37pxSUlIkXfnB48mCVzQ1NXXZl66Os4aGBiM1\n+snrr7+uadOmaenSpR3DiPTqitraWtXU1GjMmDE3/HmjV1/2KSsrSxLHVFeCwaAKCwuVnZ2t7Oxs\nZWVlhfWYioqwR8/eeOMNbdmyRX/605/0l7/8RQcOHJDjOJ3+zfXbuIK+3Nhjjz2myspKbd26VSkp\nKfrNb35juiTfaG1tVWlpqcrKypSUlMTP2w1c3yeOqa7FxcXpzTffVFVVlaqrq3X06NGwHlNREfap\nqak6ffp0x3ZDQ4MGDRpksCL/udqPAQMGKDc3V9XV1Ro4cGDHg4gaGxt5jPD/uVFfUlNTVVdX1/Hv\n6uvrlZqaaqRGvxgwYEDHL5hZs2Z1DBXGeq/a29tVWlqqadOmKTc3VxLHVVe66hPHVPf69euncePG\naffu3WE9pqIi7EePHq0TJ07o1KlTunjxonbs2KGJEyeaLss3Pv/8c7W2tkqSPvvsM73//vvKzMxU\nTk6ONm/eLEnasmVLzPbs+uuDN+pLTk6O3n77bV28eFEnT57UiRMnOoYdY8X1vWpsbOz489///ndl\nZmZKoldlZWW655579MQTT3Ts47j6qq76xDH1VU1NTR2XM9ra2rR3715lZGSE9ZiKmuVyq6qq9OKL\nL8p1Xc2YMUMlJSWmS/KNkydPav78+XIcR5cvX1ZBQYFKSkrU3NysBQsWqK6uTunp6frd737X5QQs\nmy1atEj79+9Xc3OzUlJS9PTTTys3N1c/+9nPuuxLeXm5Nm7cqISEBC1dulQPPvig4e+g93TVq/37\n9+vjjz9WXFyc0tPT9atf/arjGmKs9uqjjz7ST37yE2VmZspxHDmOo4ULFyorK+uGP2+x2Ksb9Wn7\n9u0cU9f597//rWeffVbBYFDBYFCPPPKInnrqqW5/h4faq6gJewAAcHOiYhgfAADcPMIeAADLEfYA\nAFiOsAcAwHKEPQAAliPsAQCwHGEP4Cs+/PBDzZ4923QZAMKEsAfQJdZ2B+yRYLoAAP7U1NSkkpIS\nnThxQsOHD9fPf/5zlZaW6q677tInn3yi9PR0vfTSSzG3KiMQjTizB9Cluro6Pf/88/rrX/+qs2fP\nau/evTp27JiKi4u1fft2DR8+XK+++qrpMgF4QNgD6NLIkSM1ePBgSdLw4cP13//+V9/85jc1duxY\nSVJhYaH2799vskQAHhH2ALoUHx/f8WfHcZSenq6EhC+v/Lmu22kbgH8R9gA8O378uGpqaiRJmzZt\n0oQJEwxXBMALPpYD8MRxHN1+++1auXKlPvnkE40YMUKLFi0yXRYAD3jELQBPTp06pdmzZ2vXrl2m\nSwEQIobxAXjGvfdAdOLMHgAAy3FmDwCA5Qh7AAAsR9gDAGA5wh4AAMsR9gAAWI6wBwDAcv8fc/Eg\nCu+bBgAAAAAASUVORK5CYII=\n",
      "text/plain": [
       "<matplotlib.figure.Figure at 0x11c0c9450>"
      ]
     },
     "metadata": {},
     "output_type": "display_data"
    }
   ],
   "source": [
    "sns.residplot(CarData.hp, CarData.mpg) #residual plot shows the error in your predicted value based on your input. \n",
    "plt.show()"
   ]
  },
  {
   "cell_type": "markdown",
   "metadata": {},
   "source": [
    "Answer: Hp seems to have a strong linear relationship with mpg. However, the residual plot shows that there is a pattern in the distribution of residuals. "
   ]
  },
  {
   "cell_type": "markdown",
   "metadata": {},
   "source": [
    "#### Now let's find find the regression line. Use hp to predict mpg"
   ]
  },
  {
   "cell_type": "code",
   "execution_count": 17,
   "metadata": {
    "collapsed": false
   },
   "outputs": [],
   "source": [
    "from sklearn.linear_model import LinearRegression \n",
    "linreg = LinearRegression()"
   ]
  },
  {
   "cell_type": "code",
   "execution_count": 18,
   "metadata": {
    "collapsed": true
   },
   "outputs": [],
   "source": [
    "X = CarData[['hp']]   #Matrix of Input -- separate vars by commas. use caps for inputs. \n",
    "y= CarData['mpg'] "
   ]
  },
  {
   "cell_type": "code",
   "execution_count": 19,
   "metadata": {
    "collapsed": false
   },
   "outputs": [
    {
     "data": {
      "text/plain": [
       "LinearRegression(copy_X=True, fit_intercept=True, n_jobs=1, normalize=False)"
      ]
     },
     "execution_count": 19,
     "metadata": {},
     "output_type": "execute_result"
    }
   ],
   "source": [
    "linreg.fit(X,y) "
   ]
  },
  {
   "cell_type": "code",
   "execution_count": 20,
   "metadata": {
    "collapsed": false
   },
   "outputs": [
    {
     "name": "stdout",
     "output_type": "stream",
     "text": [
      "Our intercept is 31.791786\n",
      "Our slope is -0.082048\n"
     ]
    }
   ],
   "source": [
    "# Let's print intercept and slope\n",
    "print('Our intercept is %f' %linreg.intercept_)\n",
    "print(\"Our slope is %f\" %linreg.coef_)"
   ]
  },
  {
   "cell_type": "markdown",
   "metadata": {},
   "source": [
    "#### Write down the formula for your regression line"
   ]
  },
  {
   "cell_type": "markdown",
   "metadata": {},
   "source": [
    "Answer: mpg_hat = 31.791786 - 0.082048 * hp"
   ]
  },
  {
   "cell_type": "markdown",
   "metadata": {},
   "source": [
    "#### Interpret the coefficient of hp"
   ]
  },
  {
   "cell_type": "markdown",
   "metadata": {},
   "source": [
    "Answer: With every unit increase in gross horsepower, mpg is reduced by 0.08. "
   ]
  },
  {
   "cell_type": "markdown",
   "metadata": {},
   "source": [
    "#### Let's make predictions for two cars VW Jetta and Bugatti Veyron - my dream car . VW jetta has 170 hp and Bugatti Veyron has 1200 hp. What are your predictions for these two cars?"
   ]
  },
  {
   "cell_type": "code",
   "execution_count": 22,
   "metadata": {
    "collapsed": false
   },
   "outputs": [
    {
     "name": "stdout",
     "output_type": "stream",
     "text": [
      "Based on the model, a VW jetta has 23.587029 mpg\n"
     ]
    }
   ],
   "source": [
    "print('Based on the model, a VW jetta has %f mpg' %linreg.predict(100))"
   ]
  },
  {
   "cell_type": "code",
   "execution_count": 23,
   "metadata": {
    "collapsed": false
   },
   "outputs": [
    {
     "name": "stdout",
     "output_type": "stream",
     "text": [
      "We can't predict mpg given 1200 hp, because we have no observations at that hp\n"
     ]
    }
   ],
   "source": [
    "print('We can\\'t predict mpg given 1200 hp, because we have no observations at that hp')"
   ]
  },
  {
   "cell_type": "markdown",
   "metadata": {},
   "source": [
    "Answer: "
   ]
  },
  {
   "cell_type": "markdown",
   "metadata": {},
   "source": [
    "#### Now let's work with categorical data"
   ]
  },
  {
   "cell_type": "markdown",
   "metadata": {},
   "source": [
    "Let's first create dummy variables for weight of cars. Let's categorize Cars based on weight. Those cars that are heavier than 75% of cars are going to be called \"Heavy\", those which are heavier than 25% of cars but lighter than the heaviest 25% cars are going to be Called \"Medium\" and finally, the lightest 25% cars are called \"Light\"."
   ]
  },
  {
   "cell_type": "code",
   "execution_count": 24,
   "metadata": {
    "collapsed": false
   },
   "outputs": [
    {
     "data": {
      "text/html": [
       "<div>\n",
       "<table border=\"1\" class=\"dataframe\">\n",
       "  <thead>\n",
       "    <tr style=\"text-align: right;\">\n",
       "      <th></th>\n",
       "      <th>name</th>\n",
       "      <th>mpg</th>\n",
       "      <th>cyl</th>\n",
       "      <th>disp</th>\n",
       "      <th>hp</th>\n",
       "      <th>drat</th>\n",
       "      <th>wt</th>\n",
       "      <th>qsec</th>\n",
       "      <th>vs</th>\n",
       "      <th>am</th>\n",
       "      <th>gear</th>\n",
       "      <th>carb</th>\n",
       "      <th>wt_category</th>\n",
       "    </tr>\n",
       "  </thead>\n",
       "  <tbody>\n",
       "    <tr>\n",
       "      <th>0</th>\n",
       "      <td>Mazda RX4</td>\n",
       "      <td>21.0</td>\n",
       "      <td>6</td>\n",
       "      <td>160.0</td>\n",
       "      <td>110</td>\n",
       "      <td>3.90</td>\n",
       "      <td>2.620</td>\n",
       "      <td>16.46</td>\n",
       "      <td>0</td>\n",
       "      <td>1</td>\n",
       "      <td>4</td>\n",
       "      <td>4</td>\n",
       "      <td>Medium</td>\n",
       "    </tr>\n",
       "    <tr>\n",
       "      <th>1</th>\n",
       "      <td>Mazda RX4 Wag</td>\n",
       "      <td>21.0</td>\n",
       "      <td>6</td>\n",
       "      <td>160.0</td>\n",
       "      <td>110</td>\n",
       "      <td>3.90</td>\n",
       "      <td>2.875</td>\n",
       "      <td>17.02</td>\n",
       "      <td>0</td>\n",
       "      <td>1</td>\n",
       "      <td>4</td>\n",
       "      <td>4</td>\n",
       "      <td>Medium</td>\n",
       "    </tr>\n",
       "    <tr>\n",
       "      <th>2</th>\n",
       "      <td>Datsun 710</td>\n",
       "      <td>22.8</td>\n",
       "      <td>4</td>\n",
       "      <td>108.0</td>\n",
       "      <td>93</td>\n",
       "      <td>3.85</td>\n",
       "      <td>2.320</td>\n",
       "      <td>18.61</td>\n",
       "      <td>1</td>\n",
       "      <td>1</td>\n",
       "      <td>4</td>\n",
       "      <td>1</td>\n",
       "      <td>Light</td>\n",
       "    </tr>\n",
       "    <tr>\n",
       "      <th>3</th>\n",
       "      <td>Hornet 4 Drive</td>\n",
       "      <td>21.4</td>\n",
       "      <td>6</td>\n",
       "      <td>258.0</td>\n",
       "      <td>110</td>\n",
       "      <td>3.08</td>\n",
       "      <td>3.215</td>\n",
       "      <td>19.44</td>\n",
       "      <td>1</td>\n",
       "      <td>0</td>\n",
       "      <td>3</td>\n",
       "      <td>1</td>\n",
       "      <td>Medium</td>\n",
       "    </tr>\n",
       "    <tr>\n",
       "      <th>4</th>\n",
       "      <td>Hornet Sportabout</td>\n",
       "      <td>18.7</td>\n",
       "      <td>8</td>\n",
       "      <td>360.0</td>\n",
       "      <td>175</td>\n",
       "      <td>3.15</td>\n",
       "      <td>3.440</td>\n",
       "      <td>17.02</td>\n",
       "      <td>0</td>\n",
       "      <td>0</td>\n",
       "      <td>3</td>\n",
       "      <td>2</td>\n",
       "      <td>Medium</td>\n",
       "    </tr>\n",
       "  </tbody>\n",
       "</table>\n",
       "</div>"
      ],
      "text/plain": [
       "                name   mpg  cyl   disp   hp  drat     wt   qsec  vs  am  gear  \\\n",
       "0          Mazda RX4  21.0    6  160.0  110  3.90  2.620  16.46   0   1     4   \n",
       "1      Mazda RX4 Wag  21.0    6  160.0  110  3.90  2.875  17.02   0   1     4   \n",
       "2         Datsun 710  22.8    4  108.0   93  3.85  2.320  18.61   1   1     4   \n",
       "3     Hornet 4 Drive  21.4    6  258.0  110  3.08  3.215  19.44   1   0     3   \n",
       "4  Hornet Sportabout  18.7    8  360.0  175  3.15  3.440  17.02   0   0     3   \n",
       "\n",
       "   carb wt_category  \n",
       "0     4      Medium  \n",
       "1     4      Medium  \n",
       "2     1       Light  \n",
       "3     1      Medium  \n",
       "4     2      Medium  "
      ]
     },
     "execution_count": 24,
     "metadata": {},
     "output_type": "execute_result"
    }
   ],
   "source": [
    "mask_Heavy = (CarData['wt'] > CarData['wt'].quantile(0.75))\n",
    "mask_Light = (CarData['wt'] < CarData['wt'].quantile(0.25))\n",
    "CarData['wt_category'] = 'Medium'\n",
    "CarData.loc[mask_Heavy, 'wt_category'] = 'Heavy'\n",
    "CarData.loc[mask_Light, 'wt_category'] = 'Light'\n",
    "CarData.head()"
   ]
  },
  {
   "cell_type": "code",
   "execution_count": 25,
   "metadata": {
    "collapsed": false
   },
   "outputs": [
    {
     "data": {
      "text/html": [
       "<div>\n",
       "<table border=\"1\" class=\"dataframe\">\n",
       "  <thead>\n",
       "    <tr style=\"text-align: right;\">\n",
       "      <th></th>\n",
       "      <th>name</th>\n",
       "      <th>mpg</th>\n",
       "      <th>cyl</th>\n",
       "      <th>disp</th>\n",
       "      <th>hp</th>\n",
       "      <th>drat</th>\n",
       "      <th>wt</th>\n",
       "      <th>qsec</th>\n",
       "      <th>vs</th>\n",
       "      <th>am</th>\n",
       "      <th>gear</th>\n",
       "      <th>carb</th>\n",
       "      <th>wt_category</th>\n",
       "      <th>Heavy</th>\n",
       "      <th>Medium</th>\n",
       "    </tr>\n",
       "  </thead>\n",
       "  <tbody>\n",
       "    <tr>\n",
       "      <th>0</th>\n",
       "      <td>Mazda RX4</td>\n",
       "      <td>21.0</td>\n",
       "      <td>6</td>\n",
       "      <td>160.0</td>\n",
       "      <td>110</td>\n",
       "      <td>3.90</td>\n",
       "      <td>2.620</td>\n",
       "      <td>16.46</td>\n",
       "      <td>0</td>\n",
       "      <td>1</td>\n",
       "      <td>4</td>\n",
       "      <td>4</td>\n",
       "      <td>Medium</td>\n",
       "      <td>0.0</td>\n",
       "      <td>1.0</td>\n",
       "    </tr>\n",
       "    <tr>\n",
       "      <th>1</th>\n",
       "      <td>Mazda RX4 Wag</td>\n",
       "      <td>21.0</td>\n",
       "      <td>6</td>\n",
       "      <td>160.0</td>\n",
       "      <td>110</td>\n",
       "      <td>3.90</td>\n",
       "      <td>2.875</td>\n",
       "      <td>17.02</td>\n",
       "      <td>0</td>\n",
       "      <td>1</td>\n",
       "      <td>4</td>\n",
       "      <td>4</td>\n",
       "      <td>Medium</td>\n",
       "      <td>0.0</td>\n",
       "      <td>1.0</td>\n",
       "    </tr>\n",
       "    <tr>\n",
       "      <th>2</th>\n",
       "      <td>Datsun 710</td>\n",
       "      <td>22.8</td>\n",
       "      <td>4</td>\n",
       "      <td>108.0</td>\n",
       "      <td>93</td>\n",
       "      <td>3.85</td>\n",
       "      <td>2.320</td>\n",
       "      <td>18.61</td>\n",
       "      <td>1</td>\n",
       "      <td>1</td>\n",
       "      <td>4</td>\n",
       "      <td>1</td>\n",
       "      <td>Light</td>\n",
       "      <td>0.0</td>\n",
       "      <td>0.0</td>\n",
       "    </tr>\n",
       "    <tr>\n",
       "      <th>3</th>\n",
       "      <td>Hornet 4 Drive</td>\n",
       "      <td>21.4</td>\n",
       "      <td>6</td>\n",
       "      <td>258.0</td>\n",
       "      <td>110</td>\n",
       "      <td>3.08</td>\n",
       "      <td>3.215</td>\n",
       "      <td>19.44</td>\n",
       "      <td>1</td>\n",
       "      <td>0</td>\n",
       "      <td>3</td>\n",
       "      <td>1</td>\n",
       "      <td>Medium</td>\n",
       "      <td>0.0</td>\n",
       "      <td>1.0</td>\n",
       "    </tr>\n",
       "    <tr>\n",
       "      <th>4</th>\n",
       "      <td>Hornet Sportabout</td>\n",
       "      <td>18.7</td>\n",
       "      <td>8</td>\n",
       "      <td>360.0</td>\n",
       "      <td>175</td>\n",
       "      <td>3.15</td>\n",
       "      <td>3.440</td>\n",
       "      <td>17.02</td>\n",
       "      <td>0</td>\n",
       "      <td>0</td>\n",
       "      <td>3</td>\n",
       "      <td>2</td>\n",
       "      <td>Medium</td>\n",
       "      <td>0.0</td>\n",
       "      <td>1.0</td>\n",
       "    </tr>\n",
       "  </tbody>\n",
       "</table>\n",
       "</div>"
      ],
      "text/plain": [
       "                name   mpg  cyl   disp   hp  drat     wt   qsec  vs  am  gear  \\\n",
       "0          Mazda RX4  21.0    6  160.0  110  3.90  2.620  16.46   0   1     4   \n",
       "1      Mazda RX4 Wag  21.0    6  160.0  110  3.90  2.875  17.02   0   1     4   \n",
       "2         Datsun 710  22.8    4  108.0   93  3.85  2.320  18.61   1   1     4   \n",
       "3     Hornet 4 Drive  21.4    6  258.0  110  3.08  3.215  19.44   1   0     3   \n",
       "4  Hornet Sportabout  18.7    8  360.0  175  3.15  3.440  17.02   0   0     3   \n",
       "\n",
       "   carb wt_category  Heavy  Medium  \n",
       "0     4      Medium    0.0     1.0  \n",
       "1     4      Medium    0.0     1.0  \n",
       "2     1       Light    0.0     0.0  \n",
       "3     1      Medium    0.0     1.0  \n",
       "4     2      Medium    0.0     1.0  "
      ]
     },
     "execution_count": 25,
     "metadata": {},
     "output_type": "execute_result"
    }
   ],
   "source": [
    "#Let's Create Dummy Variables\n",
    "WeightDummy = pd.get_dummies(CarData.wt_category)\n",
    "del WeightDummy['Light']\n",
    "CarData = pd.concat([CarData,WeightDummy],axis = 1)\n",
    "CarData.head()"
   ]
  },
  {
   "cell_type": "code",
   "execution_count": 26,
   "metadata": {
    "collapsed": false
   },
   "outputs": [
    {
     "data": {
      "text/plain": [
       "<matplotlib.axes._subplots.AxesSubplot at 0x11d562650>"
      ]
     },
     "execution_count": 26,
     "metadata": {},
     "output_type": "execute_result"
    },
    {
     "data": {
      "image/png": "iVBORw0KGgoAAAANSUhEUgAAAe4AAAF3CAYAAABjfqjdAAAABHNCSVQICAgIfAhkiAAAAAlwSFlz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\n",
      "text/plain": [
       "<matplotlib.figure.Figure at 0x11d54aad0>"
      ]
     },
     "metadata": {},
     "output_type": "display_data"
    }
   ],
   "source": [
    "#Now let's visualize association between mpg and weight\n",
    "CarData.boxplot(column = 'mpg', by = 'wt_category') "
   ]
  },
  {
   "cell_type": "markdown",
   "metadata": {},
   "source": [
    "#### Does the abox boxplot make sense? Why it does or why it does not?"
   ]
  },
  {
   "cell_type": "markdown",
   "metadata": {},
   "source": [
    "Answer: Per the box plot, the heavier the car the fewer miles it can travel per gallon of gas. This makes sense since you'd expect that it requires more energy to move a heavier car. Within the individual weight categories, you can see that the distribution of mpg ~ weight is pretty symmetrical. The exception is with lightweight cars where there's a left skew. There might be some energy-efficient vehicles in the dataset contributing to the shape of that distribution"
   ]
  },
  {
   "cell_type": "markdown",
   "metadata": {},
   "source": [
    "#### Apply a multivariable regression line to discover relationship between mpg and weight categories. Print your outcomes."
   ]
  },
  {
   "cell_type": "code",
   "execution_count": 27,
   "metadata": {
    "collapsed": false
   },
   "outputs": [
    {
     "name": "stdout",
     "output_type": "stream",
     "text": [
      "28.0875\n",
      "[-13.475       -9.00083333]\n"
     ]
    }
   ],
   "source": [
    "X = CarData[['Heavy','Medium']]\n",
    "y= CarData['mpg']\n",
    "linreg.fit(X,y)\n",
    "print(linreg.intercept_)\n",
    "print(linreg.coef_)"
   ]
  },
  {
   "cell_type": "markdown",
   "metadata": {},
   "source": [
    "#### Write your regression line"
   ]
  },
  {
   "cell_type": "markdown",
   "metadata": {},
   "source": [
    "Answer: mpg_hat = 28.0875 - 13.475 * Heavy - 9.00083333 * Medium"
   ]
  },
  {
   "cell_type": "markdown",
   "metadata": {},
   "source": [
    "#### Please interpret your above results"
   ]
  },
  {
   "cell_type": "markdown",
   "metadata": {},
   "source": [
    "Answer: On average, heavy cars can travel -13.475 fewer miles per gallon than the baseline light cars, and medium wt cars can travel 9.00 fewer miles per gallon of gas than light cars. Light cars have an average of 28.0875 miles per gallon. "
   ]
  },
  {
   "cell_type": "markdown",
   "metadata": {},
   "source": [
    "** Without using perdict function, predict the average mpg of light, heavy and medium cars **"
   ]
  },
  {
   "cell_type": "markdown",
   "metadata": {},
   "source": [
    "Answer: Light cars = 28.0875 mpg, medium cars = 19.087 mpg, heavy cars = 14.613 mpg"
   ]
  },
  {
   "cell_type": "markdown",
   "metadata": {},
   "source": [
    "** Now let's use predict function to predict mpg for light, heavy and medium cars **"
   ]
  },
  {
   "cell_type": "code",
   "execution_count": 28,
   "metadata": {
    "collapsed": false
   },
   "outputs": [
    {
     "name": "stdout",
     "output_type": "stream",
     "text": [
      "[ 14.6125]\n"
     ]
    }
   ],
   "source": [
    "print(linreg.predict([[1,0]])) "
   ]
  },
  {
   "cell_type": "code",
   "execution_count": 29,
   "metadata": {
    "collapsed": false
   },
   "outputs": [
    {
     "name": "stdout",
     "output_type": "stream",
     "text": [
      "[ 19.08666667]\n"
     ]
    }
   ],
   "source": [
    "print(linreg.predict([[0,1]]))  "
   ]
  },
  {
   "cell_type": "code",
   "execution_count": 30,
   "metadata": {
    "collapsed": false
   },
   "outputs": [
    {
     "name": "stdout",
     "output_type": "stream",
     "text": [
      "[ 28.0875]\n"
     ]
    }
   ],
   "source": [
    "print(linreg.predict([[0,0]]))  "
   ]
  },
  {
   "cell_type": "code",
   "execution_count": null,
   "metadata": {
    "collapsed": true
   },
   "outputs": [],
   "source": []
  }
 ],
 "metadata": {
  "kernelspec": {
   "display_name": "Python 2",
   "language": "python",
   "name": "python2"
  },
  "language_info": {
   "codemirror_mode": {
    "name": "ipython",
    "version": 2
   },
   "file_extension": ".py",
   "mimetype": "text/x-python",
   "name": "python",
   "nbconvert_exporter": "python",
   "pygments_lexer": "ipython2",
   "version": "2.7.11"
  }
 },
 "nbformat": 4,
 "nbformat_minor": 0
}
